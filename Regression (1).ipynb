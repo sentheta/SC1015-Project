{
 "cells": [
  {
   "cell_type": "markdown",
   "id": "6b9864fb-1032-480f-99db-56f9287a3b6f",
   "metadata": {},
   "source": [
    "## Importing necessary libraries"
   ]
  },
  {
   "cell_type": "code",
   "execution_count": 24,
   "id": "5b05d52f",
   "metadata": {},
   "outputs": [],
   "source": [
    "import numpy as np\n",
    "import pandas as pd\n",
    "import seaborn as sb\n",
    "import matplotlib.pyplot as plt\n",
    "import warnings\n",
    "from sklearn.linear_model import BayesianRidge\n",
    "from sklearn.linear_model import LinearRegression\n",
    "from sklearn.model_selection import train_test_split\n",
    "from sklearn.metrics import mean_squared_error, r2_score\n",
    "from sklearn.ensemble import GradientBoostingRegressor\n",
    "from sklearn.model_selection import train_test_split\n",
    "from sklearn.metrics import mean_squared_error\n",
    "from sklearn.preprocessing import LabelEncoder\n",
    "import pandas as pd\n",
    "\n",
    "sb.set()\n",
    "warnings.filterwarnings('ignore')"
   ]
  },
  {
   "cell_type": "code",
   "execution_count": null,
   "id": "5a58c208-91f5-4ba2-989a-9d0877b30fb6",
   "metadata": {},
   "outputs": [],
   "source": []
  },
  {
   "cell_type": "markdown",
   "id": "180b0b07-01ba-416d-b71d-a11fb7fdff1c",
   "metadata": {},
   "source": [
    "#### Importing dataset"
   ]
  },
  {
   "cell_type": "code",
   "execution_count": 25,
   "id": "d07122d3",
   "metadata": {},
   "outputs": [
    {
     "data": {
      "text/html": [
       "<div>\n",
       "<style scoped>\n",
       "    .dataframe tbody tr th:only-of-type {\n",
       "        vertical-align: middle;\n",
       "    }\n",
       "\n",
       "    .dataframe tbody tr th {\n",
       "        vertical-align: top;\n",
       "    }\n",
       "\n",
       "    .dataframe thead th {\n",
       "        text-align: right;\n",
       "    }\n",
       "</style>\n",
       "<table border=\"1\" class=\"dataframe\">\n",
       "  <thead>\n",
       "    <tr style=\"text-align: right;\">\n",
       "      <th></th>\n",
       "      <th>Unnamed: 0</th>\n",
       "      <th>month</th>\n",
       "      <th>town</th>\n",
       "      <th>flat_type</th>\n",
       "      <th>block</th>\n",
       "      <th>street_name</th>\n",
       "      <th>storey_range</th>\n",
       "      <th>floor_area_sqm</th>\n",
       "      <th>flat_model</th>\n",
       "      <th>lease_commence_date</th>\n",
       "      <th>resale_price</th>\n",
       "    </tr>\n",
       "  </thead>\n",
       "  <tbody>\n",
       "    <tr>\n",
       "      <th>0</th>\n",
       "      <td>0</td>\n",
       "      <td>3/1/2012</td>\n",
       "      <td>ANG MO KIO</td>\n",
       "      <td>2 ROOM</td>\n",
       "      <td>172</td>\n",
       "      <td>ANG MO KIO AVE 4</td>\n",
       "      <td>06 TO 10</td>\n",
       "      <td>45</td>\n",
       "      <td>Improved</td>\n",
       "      <td>1986</td>\n",
       "      <td>250000.0</td>\n",
       "    </tr>\n",
       "    <tr>\n",
       "      <th>1</th>\n",
       "      <td>1</td>\n",
       "      <td>3/1/2012</td>\n",
       "      <td>ANG MO KIO</td>\n",
       "      <td>2 ROOM</td>\n",
       "      <td>510</td>\n",
       "      <td>ANG MO KIO AVE 8</td>\n",
       "      <td>01 TO 05</td>\n",
       "      <td>44</td>\n",
       "      <td>Improved</td>\n",
       "      <td>1980</td>\n",
       "      <td>265000.0</td>\n",
       "    </tr>\n",
       "    <tr>\n",
       "      <th>2</th>\n",
       "      <td>2</td>\n",
       "      <td>3/1/2012</td>\n",
       "      <td>ANG MO KIO</td>\n",
       "      <td>3 ROOM</td>\n",
       "      <td>610</td>\n",
       "      <td>ANG MO KIO AVE 4</td>\n",
       "      <td>06 TO 10</td>\n",
       "      <td>68</td>\n",
       "      <td>New Generation</td>\n",
       "      <td>1980</td>\n",
       "      <td>315000.0</td>\n",
       "    </tr>\n",
       "    <tr>\n",
       "      <th>3</th>\n",
       "      <td>3</td>\n",
       "      <td>3/1/2012</td>\n",
       "      <td>ANG MO KIO</td>\n",
       "      <td>3 ROOM</td>\n",
       "      <td>474</td>\n",
       "      <td>ANG MO KIO AVE 10</td>\n",
       "      <td>01 TO 05</td>\n",
       "      <td>67</td>\n",
       "      <td>New Generation</td>\n",
       "      <td>1984</td>\n",
       "      <td>320000.0</td>\n",
       "    </tr>\n",
       "    <tr>\n",
       "      <th>4</th>\n",
       "      <td>4</td>\n",
       "      <td>3/1/2012</td>\n",
       "      <td>ANG MO KIO</td>\n",
       "      <td>3 ROOM</td>\n",
       "      <td>604</td>\n",
       "      <td>ANG MO KIO AVE 5</td>\n",
       "      <td>06 TO 10</td>\n",
       "      <td>67</td>\n",
       "      <td>New Generation</td>\n",
       "      <td>1980</td>\n",
       "      <td>321000.0</td>\n",
       "    </tr>\n",
       "  </tbody>\n",
       "</table>\n",
       "</div>"
      ],
      "text/plain": [
       "   Unnamed: 0     month        town flat_type block        street_name  \\\n",
       "0           0  3/1/2012  ANG MO KIO    2 ROOM   172   ANG MO KIO AVE 4   \n",
       "1           1  3/1/2012  ANG MO KIO    2 ROOM   510   ANG MO KIO AVE 8   \n",
       "2           2  3/1/2012  ANG MO KIO    3 ROOM   610   ANG MO KIO AVE 4   \n",
       "3           3  3/1/2012  ANG MO KIO    3 ROOM   474  ANG MO KIO AVE 10   \n",
       "4           4  3/1/2012  ANG MO KIO    3 ROOM   604   ANG MO KIO AVE 5   \n",
       "\n",
       "  storey_range  floor_area_sqm      flat_model  lease_commence_date  \\\n",
       "0     06 TO 10              45        Improved                 1986   \n",
       "1     01 TO 05              44        Improved                 1980   \n",
       "2     06 TO 10              68  New Generation                 1980   \n",
       "3     01 TO 05              67  New Generation                 1984   \n",
       "4     06 TO 10              67  New Generation                 1980   \n",
       "\n",
       "   resale_price  \n",
       "0      250000.0  \n",
       "1      265000.0  \n",
       "2      315000.0  \n",
       "3      320000.0  \n",
       "4      321000.0  "
      ]
     },
     "execution_count": 25,
     "metadata": {},
     "output_type": "execute_result"
    }
   ],
   "source": [
    "data = pd.read_csv(\"cleaned-Housing.csv\")\n",
    "data.head()"
   ]
  },
  {
   "cell_type": "code",
   "execution_count": null,
   "id": "ca299942-1897-419e-bdec-e24e11c9f50f",
   "metadata": {},
   "outputs": [],
   "source": []
  },
  {
   "cell_type": "code",
   "execution_count": null,
   "id": "4ab32be3-0ebb-42c1-8b2d-693c2a1a5967",
   "metadata": {},
   "outputs": [],
   "source": []
  },
  {
   "cell_type": "markdown",
   "id": "b1015b2e-e333-4beb-925a-3042c594c55a",
   "metadata": {},
   "source": [
    "### Linear Regression Model Function"
   ]
  },
  {
   "cell_type": "code",
   "execution_count": 26,
   "id": "25711abf-02b0-46e5-ab66-7ac9ba6f3f76",
   "metadata": {},
   "outputs": [],
   "source": [
    "def linear_regression(data, variable):\n",
    "    # Fill NA values in 'resale_price' and drop rows where 'floor_area_sqm' is NA\n",
    "    data['resale_price'].fillna(0, inplace=True)\n",
    "    data_clean = data.dropna(subset=[variable])\n",
    "    \n",
    "    # Prepare the data\n",
    "    X = data_clean[[variable]]\n",
    "    y = data_clean['resale_price']\n",
    "    \n",
    "    # Split the data\n",
    "    X_train, X_test, y_train, y_test = train_test_split(X, y, test_size=0.2, random_state=42)\n",
    "    \n",
    "    # Initialize and train the model\n",
    "    model = LinearRegression()\n",
    "    model.fit(X_train, y_train)\n",
    "    \n",
    "    # Predict and evaluate the model\n",
    "    y_pred = model.predict(X_test)\n",
    "    mse = mean_squared_error(y_test, y_pred)\n",
    "    r2 = r2_score(y_test, y_pred)\n",
    "    \n",
    "    # Print the performance\n",
    "    print(f'Linear Regression using {variable}:')\n",
    "    print(f'Mean Squared Error (MSE): {mse}')\n",
    "    print(f'R-squared Score: {r2}\\n')"
   ]
  },
  {
   "cell_type": "markdown",
   "id": "682b6bb8-12bd-424e-b92e-816357282300",
   "metadata": {},
   "source": [
    "### Linear Regression for 'floor_area_sqm' against 'resale_price'"
   ]
  },
  {
   "cell_type": "code",
   "execution_count": 27,
   "id": "5555e86d-a134-4262-aa76-ef8bd4d07bda",
   "metadata": {},
   "outputs": [
    {
     "name": "stdout",
     "output_type": "stream",
     "text": [
      "Linear Regression using floor_area_sqm:\n",
      "Mean Squared Error (MSE): 49101189726.02469\n",
      "R-squared Score: 0.009338818928007364\n",
      "\n"
     ]
    }
   ],
   "source": [
    "linear_regression(data, 'floor_area_sqm')"
   ]
  },
  {
   "cell_type": "markdown",
   "id": "9e15781b-41a6-4f51-b1cb-ad337a91f008",
   "metadata": {},
   "source": [
    "### Linear Regression for 'lease_commence_date' against 'resale_price'"
   ]
  },
  {
   "cell_type": "code",
   "execution_count": 28,
   "id": "5d8fa061-ecad-40bb-96d7-8d39c8bd3109",
   "metadata": {},
   "outputs": [
    {
     "name": "stdout",
     "output_type": "stream",
     "text": [
      "Linear Regression using lease_commence_date:\n",
      "Mean Squared Error (MSE): 49311022363.00488\n",
      "R-squared Score: 0.0051052545451859555\n",
      "\n"
     ]
    }
   ],
   "source": [
    "linear_regression(data, 'lease_commence_date')"
   ]
  },
  {
   "cell_type": "markdown",
   "id": "4ac84f25-271d-458c-a8e5-8a2a47068c64",
   "metadata": {},
   "source": [
    "##### The MSE for 'floor_area_sqm' and 'lease_commence_date' are both high, indicating that the models may not be fitting the data well.\r\n",
    "\r\n",
    "##### The R^2 value for 'floor_area_sqm' is slightly higher than that for 'lease_commence_date', suggesting that 'floor_area_sqm' is a slightly better predictor of 'resale_price' than 'lease_commence_date', but overall, both models explain a very small portion of the variance in 'resale_price'."
   ]
  },
  {
   "cell_type": "code",
   "execution_count": null,
   "id": "33a45801-760f-42a2-9b02-6c28c4a28ba1",
   "metadata": {},
   "outputs": [],
   "source": []
  },
  {
   "cell_type": "code",
   "execution_count": null,
   "id": "feca85b2-5cf4-42d0-8d4a-57a646982a73",
   "metadata": {},
   "outputs": [],
   "source": []
  },
  {
   "cell_type": "markdown",
   "id": "93ded24d-5497-4af6-a947-a0b66a8573c9",
   "metadata": {},
   "source": [
    "### Ridge Regression Model Function"
   ]
  },
  {
   "cell_type": "code",
   "execution_count": 29,
   "id": "1d7e1120-faeb-4c49-9700-6c1a5c43ea33",
   "metadata": {},
   "outputs": [],
   "source": [
    "def ridge_regression(data, variable):\n",
    "    # Select the feature and target\n",
    "    X = data[[variable]]\n",
    "    y = data['resale_price']\n",
    "\n",
    "    # Split the data into training and testing sets\n",
    "    X_train, X_test, y_train, y_test = train_test_split(X, y, test_size=0.2, random_state=42)\n",
    "\n",
    "    # Initialize the Ridge Regression model\n",
    "    ridge_reg_model = Ridge(alpha=1.0)\n",
    "\n",
    "    # Fit the model on the training data\n",
    "    ridge_reg_model.fit(X_train, y_train)\n",
    "\n",
    "    # Make predictions on the test data\n",
    "    y_pred_ridge = ridge_reg_model.predict(X_test)\n",
    "\n",
    "    # Evaluate the model performance\n",
    "    mse_ridge = mean_squared_error(y_test, y_pred_ridge)\n",
    "    r2_ridge = r2_score(y_test, y_pred_ridge)\n",
    "\n",
    "    # Print out the model performance metrics for Ridge Regression\n",
    "    print(f'Ridge Regression using {variable}:')\n",
    "    print(f'Mean Squared Error (MSE): {mse_ridge}')\n",
    "    print(f'R-squared Score: {r2_ridge}\\n')"
   ]
  },
  {
   "cell_type": "markdown",
   "id": "3e5d3d64-bbe8-4505-b196-9cca1d7a5254",
   "metadata": {},
   "source": [
    "### Ridge Regression Model for 'resale_price' with 'floor_area_sqm'"
   ]
  },
  {
   "cell_type": "code",
   "execution_count": 30,
   "id": "519fa8a2",
   "metadata": {},
   "outputs": [
    {
     "name": "stdout",
     "output_type": "stream",
     "text": [
      "Ridge Regression using floor_area_sqm:\n",
      "Mean Squared Error (MSE): 49101189724.921715\n",
      "R-squared Score: 0.009338818950260785\n",
      "\n"
     ]
    }
   ],
   "source": [
    "ridge_regression(data, 'floor_area_sqm')"
   ]
  },
  {
   "cell_type": "markdown",
   "id": "81df08aa-144e-4d90-9dcb-d3df1f1db80b",
   "metadata": {},
   "source": [
    "### Ridge Regression Model for 'resale_price' with 'lease_commence_date'"
   ]
  },
  {
   "cell_type": "code",
   "execution_count": 31,
   "id": "209a8d9b",
   "metadata": {},
   "outputs": [
    {
     "name": "stdout",
     "output_type": "stream",
     "text": [
      "Ridge Regression using lease_commence_date:\n",
      "Mean Squared Error (MSE): 49311022364.418015\n",
      "R-squared Score: 0.005105254516674651\n",
      "\n"
     ]
    }
   ],
   "source": [
    "ridge_regression(data, 'lease_commence_date')"
   ]
  },
  {
   "cell_type": "markdown",
   "id": "d93f4c2c-3e68-40cd-a389-9474aa525dec",
   "metadata": {},
   "source": [
    "##### The R^2 value for both variables are very close to 0. This indicates that only about 0.9% of the variance in 'resale_price' is being explained by 'floor_area_sqm' and  only about 0.5% of the variance in 'resale_price' is being explained by 'lease_commence_date' which is even less than what 'floor_area_sqm' could explain in Ridge Regression model. This suggests that 'floor_area_sqm' could be a better predictor.\n",
    "\n",
    "##### Hence we move on to try Bayesian Ridge model"
   ]
  },
  {
   "cell_type": "code",
   "execution_count": null,
   "id": "2d850fe9-d69d-4690-8e17-27d3f0caa94e",
   "metadata": {},
   "outputs": [],
   "source": []
  },
  {
   "cell_type": "code",
   "execution_count": null,
   "id": "2c48635e-9181-4710-aa28-79223a09d7da",
   "metadata": {},
   "outputs": [],
   "source": []
  },
  {
   "cell_type": "markdown",
   "id": "ee2dcf30-fd88-432a-b5bb-3b6f99d3b26f",
   "metadata": {},
   "source": [
    "### Bayesian Ridge Regression Model Function"
   ]
  },
  {
   "cell_type": "code",
   "execution_count": 36,
   "id": "ebd78dca-1ffb-4e2a-9d53-220953da11b2",
   "metadata": {},
   "outputs": [],
   "source": [
    "def bayesian_ridge_regression(data, variable):\n",
    "    # Fill NA values in 'resale_price' and drop rows where the feature is NA\n",
    "    data['resale_price'].fillna(0, inplace=True)\n",
    "    data_clean = data.dropna(subset=[variable])\n",
    "    \n",
    "    # Prepare the data\n",
    "    X = data_clean[[variable]]\n",
    "    y = data_clean['resale_price']\n",
    "    \n",
    "    # Split the data\n",
    "    X_train, X_test, y_train, y_test = train_test_split(X, y, test_size=0.2, random_state=42)\n",
    "    \n",
    "    # Initialize and train the model\n",
    "    model = BayesianRidge()\n",
    "    model.fit(X_train, y_train)\n",
    "    \n",
    "    # Predict and evaluate the model\n",
    "    y_pred = model.predict(X_test)\n",
    "    mse = mean_squared_error(y_test, y_pred)\n",
    "    r2 = r2_score(y_test, y_pred)\n",
    "    \n",
    "    # Print the performance\n",
    "    print(f'Bayesian Ridge Regression using {variable}:')\n",
    "    print(f'Mean Squared Error (MSE): {mse}')\n",
    "    print(f'R-squared Score: {r2}\\n')"
   ]
  },
  {
   "cell_type": "markdown",
   "id": "f582bcc4-c345-43e5-b063-4e9de602e719",
   "metadata": {},
   "source": [
    "### Bayesian Ridge Regression Model for 'resale_price' with 'floor_area_sqm'"
   ]
  },
  {
   "cell_type": "code",
   "execution_count": 33,
   "id": "33738efe-5554-4018-89d6-0362a2146e57",
   "metadata": {},
   "outputs": [
    {
     "name": "stdout",
     "output_type": "stream",
     "text": [
      "Bayesian Ridge Regression using floor_area_sqm:\n",
      "Mean Squared Error (MSE): 49101131295.81488\n",
      "R-squared Score: 0.009339997810657197\n",
      "\n"
     ]
    }
   ],
   "source": [
    "bayesian_ridge_regression(data, 'floor_area_sqm')"
   ]
  },
  {
   "cell_type": "markdown",
   "id": "2c51d77e-2f3c-460c-ba5a-cba2216f1780",
   "metadata": {},
   "source": [
    "### Bayesian Ridge Regression Model for 'resale_price' with 'lease_commence_date'"
   ]
  },
  {
   "cell_type": "code",
   "execution_count": 34,
   "id": "1c39c25b-9531-43ca-9738-743d7183a51b",
   "metadata": {},
   "outputs": [
    {
     "name": "stdout",
     "output_type": "stream",
     "text": [
      "Bayesian Ridge Regression using lease_commence_date:\n",
      "Mean Squared Error (MSE): 49311064858.39827\n",
      "R-squared Score: 0.005104397161956875\n",
      "\n"
     ]
    }
   ],
   "source": [
    "bayesian_ridge_regression(data, 'lease_commence_date')"
   ]
  },
  {
   "cell_type": "markdown",
   "id": "57ec5fa5-6b30-44a4-ad0a-1a1367b6b61b",
   "metadata": {},
   "source": [
    "##### The Bayesian Ridge model is incorporating prior distributions over the weights and automatically tuning its regularization parameters. Despite this, the predictive power does not significantly improve compared to the standard Ridge Regression, as indicated by the similar MSE and R^2 values.\n"
   ]
  },
  {
   "cell_type": "code",
   "execution_count": null,
   "id": "bc712993-2cc6-487e-9b0a-19cefe55a38a",
   "metadata": {},
   "outputs": [],
   "source": []
  },
  {
   "cell_type": "code",
   "execution_count": null,
   "id": "4546d8a5-95e9-4e7a-9a8c-9dcb3e3bdf1f",
   "metadata": {},
   "outputs": [],
   "source": []
  },
  {
   "cell_type": "code",
   "execution_count": 47,
   "id": "106b477a-7972-40b3-96aa-db3a5052eaa5",
   "metadata": {},
   "outputs": [
    {
     "name": "stdout",
     "output_type": "stream",
     "text": [
      "The average resale price is: 143201.11295236502\n"
     ]
    }
   ],
   "source": [
    "average_resale_price = data['resale_price'].mean()\n",
    "\n",
    "print(f\"The average resale price is: {average_resale_price}\")"
   ]
  },
  {
   "cell_type": "markdown",
   "id": "43540b84-d0b1-46f9-96bb-65ca4d4274e3",
   "metadata": {},
   "source": [
    "##### It is important to note that eventhough the MSE seems high it is acceptable because the reatail prices usually vary widely. Housing prices, such as those for HDB flats, can range significantly. An MSE of tens of millions might seem large, but if the resale prices range from tens of thousands to multiple millions, the MSE might be relatively small when considered as a percentage of the price range. The square root of the MSE gives you the Root Mean Squared Error (RMSE), which is on the same scale as the prices themselves. For example, if the RMSE is 70,000, this means the average prediction error is 70,000. If the average housing price is around 500,000 or more, a 70,000 error might be a reasonable margin for certain applications, like a quick market estimate."
   ]
  },
  {
   "cell_type": "markdown",
   "id": "326dd197-d64b-413f-98ae-3a298f9a5c71",
   "metadata": {},
   "source": [
    "##### Thus, we moved on to try other complex models like Gradient Boosting and Random Forest"
   ]
  },
  {
   "cell_type": "code",
   "execution_count": null,
   "id": "bc4114c5-a08b-4edf-9d0b-62c890db0882",
   "metadata": {},
   "outputs": [],
   "source": []
  },
  {
   "cell_type": "code",
   "execution_count": null,
   "id": "40d20ee8-234e-4f24-8b76-5227369c73a5",
   "metadata": {},
   "outputs": [],
   "source": []
  },
  {
   "cell_type": "markdown",
   "id": "02fb7248-725c-4950-92ac-5a9f230967aa",
   "metadata": {},
   "source": [
    "### Gradient Boosting Regressor Model"
   ]
  },
  {
   "cell_type": "code",
   "execution_count": 48,
   "id": "0782a2c0",
   "metadata": {
    "scrolled": true
   },
   "outputs": [
    {
     "name": "stdout",
     "output_type": "stream",
     "text": [
      "Mean Squared Error: 44368038553.20795\n"
     ]
    }
   ],
   "source": [
    "df = data\n",
    "\n",
    "# Encode categorical variables\n",
    "label_encoders = {}\n",
    "categorical_cols = ['flat_type', 'storey_range', 'flat_model']\n",
    "for col in categorical_cols:\n",
    "    label_encoders[col] = LabelEncoder()\n",
    "    df[col] = label_encoders[col].fit_transform(df[col])\n",
    "\n",
    "# Split the data into features and target variable\n",
    "X = df[['flat_type', 'storey_range', 'flat_model', 'floor_area_sqm']]\n",
    "y = df['resale_price']\n",
    "\n",
    "# Split the data into training and testing sets\n",
    "X_train, X_test, y_train, y_test = train_test_split(X, y, test_size=0.2, random_state=42)\n",
    "\n",
    "# Initialize Gradient Boosting Regressor model\n",
    "gb_regressor = GradientBoostingRegressor()\n",
    "\n",
    "# Train the model\n",
    "gb_regressor.fit(X_train, y_train)\n",
    "\n",
    "# Make predictions\n",
    "y_pred = gb_regressor.predict(X_test)\n",
    "\n",
    "# Evaluate the model\n",
    "mse = mean_squared_error(y_test, y_pred)\n",
    "print(\"Mean Squared Error:\", mse)"
   ]
  },
  {
   "cell_type": "markdown",
   "id": "cae093f1-b3b6-4e50-999f-1aad83a59e2e",
   "metadata": {},
   "source": [
    "##### Compared to linear models, this model is more robust and captures the interaction between different varibles like 'floor_area_sqm' and 'flat_type' effectively. It provided more flexibility in considering more varibles both categorical and numerical.\n",
    "##### We can see thet the MSE also decreased in using the model and eventhough it is still high, the absolute error would be a less percentage of high 'resale_price' value."
   ]
  },
  {
   "cell_type": "markdown",
   "id": "61f46971-89fe-4322-af52-83ed7621dc8b",
   "metadata": {},
   "source": [
    "### Gradient Boosting Regressor Model on Dataset after removing outliers"
   ]
  },
  {
   "cell_type": "code",
   "execution_count": 39,
   "id": "1100efbc",
   "metadata": {},
   "outputs": [
    {
     "name": "stdout",
     "output_type": "stream",
     "text": [
      "Mean Squared Error after removing outliers: 5464626336.649794\n"
     ]
    }
   ],
   "source": [
    "# Define the lower and upper quantile thresholds\n",
    "lower_quantile = 0.25  # 5th percentile\n",
    "upper_quantile = 0.75  # 95th percentile\n",
    "\n",
    "# Filter out the outliers based on the resale price column\n",
    "lower_threshold = df['resale_price'].quantile(lower_quantile)\n",
    "upper_threshold = df['resale_price'].quantile(upper_quantile)\n",
    "cleaned_df = df[(df['resale_price'] >= lower_threshold) & (df['resale_price'] <= upper_threshold)]\n",
    "\n",
    "# Split the cleaned data into features and target variable\n",
    "X = cleaned_df[['flat_type', 'storey_range', 'flat_model', 'floor_area_sqm']]\n",
    "y = cleaned_df['resale_price']\n",
    "\n",
    "# Split the data into training and testing sets\n",
    "X_train, X_test, y_train, y_test = train_test_split(X, y, test_size=0.2, random_state=42)\n",
    "\n",
    "# Initialize Gradient Boosting Regressor model\n",
    "gb_regressor = GradientBoostingRegressor()\n",
    "\n",
    "# Train the model\n",
    "gb_regressor.fit(X_train, y_train)\n",
    "\n",
    "# Make predictions\n",
    "y_pred = gb_regressor.predict(X_test)\n",
    "\n",
    "# Evaluate the model\n",
    "mse = mean_squared_error(y_test, y_pred)\n",
    "print(\"Mean Squared Error after removing outliers:\", mse)"
   ]
  },
  {
   "cell_type": "markdown",
   "id": "70cfd84d-18b3-4bb8-9665-0b4a54913629",
   "metadata": {},
   "source": [
    "##### We can see that the MSE has increased after removing the outliers which could be beacuse of the following reasons:\n",
    "\n",
    "##### The removed outliers may have been influential points that were actually well-predicted by the model. If these points were not errors but valid extreme values, the model might have been leveraging these data points to better fit the overall trend. Without them, the model might not capture the full range of the data as well.\n",
    "\n",
    "##### Tree-based models like Gradient Boosting, can be sensitive to the removal of data points. The decision boundaries or split points might change significantly when outliers are removed, leading to a poorer fit to the remaining data."
   ]
  },
  {
   "cell_type": "code",
   "execution_count": null,
   "id": "5708b6ed-886a-4264-bff0-15ca721ba7b0",
   "metadata": {},
   "outputs": [],
   "source": []
  },
  {
   "cell_type": "markdown",
   "id": "d0743215-2626-4902-a685-9eca800ef17f",
   "metadata": {},
   "source": [
    "### Random Forest Regressor Model"
   ]
  },
  {
   "cell_type": "code",
   "execution_count": 46,
   "id": "ab0060fc",
   "metadata": {},
   "outputs": [
    {
     "name": "stdout",
     "output_type": "stream",
     "text": [
      "resale_price\n",
      "        floor_area_sqm lease_commence_date\n",
      "0                   45          1986-01-01\n",
      "1                   44          1980-01-01\n",
      "2                   68          1980-01-01\n",
      "3                   67          1984-01-01\n",
      "4                   67          1980-01-01\n",
      "...                ...                 ...\n",
      "167393             131          1987-01-01\n",
      "167394             122          1987-01-01\n",
      "167395             122          1987-01-01\n",
      "167396             146          1987-01-01\n",
      "167397             146          1988-01-01\n",
      "\n",
      "[167398 rows x 2 columns]\n",
      "        resale_price\n",
      "0           250000.0\n",
      "1           265000.0\n",
      "2           315000.0\n",
      "3           320000.0\n",
      "4           321000.0\n",
      "...              ...\n",
      "167393           0.0\n",
      "167394           0.0\n",
      "167395           0.0\n",
      "167396           0.0\n",
      "167397           0.0\n",
      "\n",
      "[167398 rows x 1 columns]\n"
     ]
    },
    {
     "ename": "DTypePromotionError",
     "evalue": "The DType <class 'numpy.dtypes.Int64DType'> could not be promoted by <class 'numpy.dtypes.DateTime64DType'>. This means that no common DType exists for the given inputs. For example they cannot be stored in a single array unless the dtype is `object`. The full list of DTypes is: (<class 'numpy.dtypes.Int64DType'>, <class 'numpy.dtypes.DateTime64DType'>)",
     "output_type": "error",
     "traceback": [
      "\u001b[1;31m---------------------------------------------------------------------------\u001b[0m",
      "\u001b[1;31mDTypePromotionError\u001b[0m                       Traceback (most recent call last)",
      "Cell \u001b[1;32mIn[46], line 41\u001b[0m\n\u001b[0;32m     33\u001b[0m     \u001b[38;5;66;03m# Plot (two) trees\u001b[39;00m\n\u001b[0;32m     34\u001b[0m \u001b[38;5;66;03m#     for i in range(min(2,len(rf.estimators_))):\u001b[39;00m\n\u001b[0;32m     35\u001b[0m \u001b[38;5;66;03m#         plt.figure(figsize=(30,15), dpi=300)\u001b[39;00m\n\u001b[0;32m     36\u001b[0m \u001b[38;5;66;03m#         plot_tree(rf.estimators_[i])\u001b[39;00m\n\u001b[0;32m     37\u001b[0m \u001b[38;5;66;03m#         plt.show()    \u001b[39;00m\n\u001b[0;32m     38\u001b[0m \u001b[38;5;66;03m#==============================================================#\u001b[39;00m\n\u001b[0;32m     40\u001b[0m data\u001b[38;5;241m.\u001b[39mdropna(inplace\u001b[38;5;241m=\u001b[39m\u001b[38;5;28;01mTrue\u001b[39;00m)\n\u001b[1;32m---> 41\u001b[0m \u001b[43mbuildRandForest\u001b[49m\u001b[43m(\u001b[49m\u001b[38;5;124;43m'\u001b[39;49m\u001b[38;5;124;43mresale_price\u001b[39;49m\u001b[38;5;124;43m'\u001b[39;49m\u001b[43m,\u001b[49m\u001b[43m[\u001b[49m\u001b[38;5;124;43m'\u001b[39;49m\u001b[38;5;124;43mfloor_area_sqm\u001b[39;49m\u001b[38;5;124;43m'\u001b[39;49m\u001b[43m,\u001b[49m\u001b[38;5;124;43m'\u001b[39;49m\u001b[38;5;124;43mlease_commence_date\u001b[39;49m\u001b[38;5;124;43m'\u001b[39;49m\u001b[43m]\u001b[49m\u001b[43m)\u001b[49m\n",
      "Cell \u001b[1;32mIn[46], line 15\u001b[0m, in \u001b[0;36mbuildRandForest\u001b[1;34m(prediction, predictors)\u001b[0m\n\u001b[0;32m     13\u001b[0m \u001b[38;5;66;03m# Train decision tree\u001b[39;00m\n\u001b[0;32m     14\u001b[0m rf \u001b[38;5;241m=\u001b[39m RandomForestRegressor()\n\u001b[1;32m---> 15\u001b[0m \u001b[43mrf\u001b[49m\u001b[38;5;241;43m.\u001b[39;49m\u001b[43mfit\u001b[49m\u001b[43m(\u001b[49m\u001b[43mx_trn\u001b[49m\u001b[43m,\u001b[49m\u001b[43m \u001b[49m\u001b[43my_trn\u001b[49m\u001b[43m)\u001b[49m\n\u001b[0;32m     17\u001b[0m \u001b[38;5;66;03m# Predict Response corresponding to Predictors\u001b[39;00m\n\u001b[0;32m     18\u001b[0m y_trn_pred \u001b[38;5;241m=\u001b[39m rf\u001b[38;5;241m.\u001b[39mpredict(x_trn)\n",
      "File \u001b[1;32m~\\AppData\\Local\\Programs\\Python\\Python312\\Lib\\site-packages\\sklearn\\base.py:1474\u001b[0m, in \u001b[0;36m_fit_context.<locals>.decorator.<locals>.wrapper\u001b[1;34m(estimator, *args, **kwargs)\u001b[0m\n\u001b[0;32m   1467\u001b[0m     estimator\u001b[38;5;241m.\u001b[39m_validate_params()\n\u001b[0;32m   1469\u001b[0m \u001b[38;5;28;01mwith\u001b[39;00m config_context(\n\u001b[0;32m   1470\u001b[0m     skip_parameter_validation\u001b[38;5;241m=\u001b[39m(\n\u001b[0;32m   1471\u001b[0m         prefer_skip_nested_validation \u001b[38;5;129;01mor\u001b[39;00m global_skip_validation\n\u001b[0;32m   1472\u001b[0m     )\n\u001b[0;32m   1473\u001b[0m ):\n\u001b[1;32m-> 1474\u001b[0m     \u001b[38;5;28;01mreturn\u001b[39;00m \u001b[43mfit_method\u001b[49m\u001b[43m(\u001b[49m\u001b[43mestimator\u001b[49m\u001b[43m,\u001b[49m\u001b[43m \u001b[49m\u001b[38;5;241;43m*\u001b[39;49m\u001b[43margs\u001b[49m\u001b[43m,\u001b[49m\u001b[43m \u001b[49m\u001b[38;5;241;43m*\u001b[39;49m\u001b[38;5;241;43m*\u001b[39;49m\u001b[43mkwargs\u001b[49m\u001b[43m)\u001b[49m\n",
      "File \u001b[1;32m~\\AppData\\Local\\Programs\\Python\\Python312\\Lib\\site-packages\\sklearn\\ensemble\\_forest.py:363\u001b[0m, in \u001b[0;36mBaseForest.fit\u001b[1;34m(self, X, y, sample_weight)\u001b[0m\n\u001b[0;32m    360\u001b[0m \u001b[38;5;28;01mif\u001b[39;00m issparse(y):\n\u001b[0;32m    361\u001b[0m     \u001b[38;5;28;01mraise\u001b[39;00m \u001b[38;5;167;01mValueError\u001b[39;00m(\u001b[38;5;124m\"\u001b[39m\u001b[38;5;124msparse multilabel-indicator for y is not supported.\u001b[39m\u001b[38;5;124m\"\u001b[39m)\n\u001b[1;32m--> 363\u001b[0m X, y \u001b[38;5;241m=\u001b[39m \u001b[38;5;28;43mself\u001b[39;49m\u001b[38;5;241;43m.\u001b[39;49m\u001b[43m_validate_data\u001b[49m\u001b[43m(\u001b[49m\n\u001b[0;32m    364\u001b[0m \u001b[43m    \u001b[49m\u001b[43mX\u001b[49m\u001b[43m,\u001b[49m\n\u001b[0;32m    365\u001b[0m \u001b[43m    \u001b[49m\u001b[43my\u001b[49m\u001b[43m,\u001b[49m\n\u001b[0;32m    366\u001b[0m \u001b[43m    \u001b[49m\u001b[43mmulti_output\u001b[49m\u001b[38;5;241;43m=\u001b[39;49m\u001b[38;5;28;43;01mTrue\u001b[39;49;00m\u001b[43m,\u001b[49m\n\u001b[0;32m    367\u001b[0m \u001b[43m    \u001b[49m\u001b[43maccept_sparse\u001b[49m\u001b[38;5;241;43m=\u001b[39;49m\u001b[38;5;124;43m\"\u001b[39;49m\u001b[38;5;124;43mcsc\u001b[39;49m\u001b[38;5;124;43m\"\u001b[39;49m\u001b[43m,\u001b[49m\n\u001b[0;32m    368\u001b[0m \u001b[43m    \u001b[49m\u001b[43mdtype\u001b[49m\u001b[38;5;241;43m=\u001b[39;49m\u001b[43mDTYPE\u001b[49m\u001b[43m,\u001b[49m\n\u001b[0;32m    369\u001b[0m \u001b[43m    \u001b[49m\u001b[43mforce_all_finite\u001b[49m\u001b[38;5;241;43m=\u001b[39;49m\u001b[38;5;28;43;01mFalse\u001b[39;49;00m\u001b[43m,\u001b[49m\n\u001b[0;32m    370\u001b[0m \u001b[43m\u001b[49m\u001b[43m)\u001b[49m\n\u001b[0;32m    371\u001b[0m \u001b[38;5;66;03m# _compute_missing_values_in_feature_mask checks if X has missing values and\u001b[39;00m\n\u001b[0;32m    372\u001b[0m \u001b[38;5;66;03m# will raise an error if the underlying tree base estimator can't handle missing\u001b[39;00m\n\u001b[0;32m    373\u001b[0m \u001b[38;5;66;03m# values. Only the criterion is required to determine if the tree supports\u001b[39;00m\n\u001b[0;32m    374\u001b[0m \u001b[38;5;66;03m# missing values.\u001b[39;00m\n\u001b[0;32m    375\u001b[0m estimator \u001b[38;5;241m=\u001b[39m \u001b[38;5;28mtype\u001b[39m(\u001b[38;5;28mself\u001b[39m\u001b[38;5;241m.\u001b[39mestimator)(criterion\u001b[38;5;241m=\u001b[39m\u001b[38;5;28mself\u001b[39m\u001b[38;5;241m.\u001b[39mcriterion)\n",
      "File \u001b[1;32m~\\AppData\\Local\\Programs\\Python\\Python312\\Lib\\site-packages\\sklearn\\base.py:650\u001b[0m, in \u001b[0;36mBaseEstimator._validate_data\u001b[1;34m(self, X, y, reset, validate_separately, cast_to_ndarray, **check_params)\u001b[0m\n\u001b[0;32m    648\u001b[0m         y \u001b[38;5;241m=\u001b[39m check_array(y, input_name\u001b[38;5;241m=\u001b[39m\u001b[38;5;124m\"\u001b[39m\u001b[38;5;124my\u001b[39m\u001b[38;5;124m\"\u001b[39m, \u001b[38;5;241m*\u001b[39m\u001b[38;5;241m*\u001b[39mcheck_y_params)\n\u001b[0;32m    649\u001b[0m     \u001b[38;5;28;01melse\u001b[39;00m:\n\u001b[1;32m--> 650\u001b[0m         X, y \u001b[38;5;241m=\u001b[39m \u001b[43mcheck_X_y\u001b[49m\u001b[43m(\u001b[49m\u001b[43mX\u001b[49m\u001b[43m,\u001b[49m\u001b[43m \u001b[49m\u001b[43my\u001b[49m\u001b[43m,\u001b[49m\u001b[43m \u001b[49m\u001b[38;5;241;43m*\u001b[39;49m\u001b[38;5;241;43m*\u001b[39;49m\u001b[43mcheck_params\u001b[49m\u001b[43m)\u001b[49m\n\u001b[0;32m    651\u001b[0m     out \u001b[38;5;241m=\u001b[39m X, y\n\u001b[0;32m    653\u001b[0m \u001b[38;5;28;01mif\u001b[39;00m \u001b[38;5;129;01mnot\u001b[39;00m no_val_X \u001b[38;5;129;01mand\u001b[39;00m check_params\u001b[38;5;241m.\u001b[39mget(\u001b[38;5;124m\"\u001b[39m\u001b[38;5;124mensure_2d\u001b[39m\u001b[38;5;124m\"\u001b[39m, \u001b[38;5;28;01mTrue\u001b[39;00m):\n",
      "File \u001b[1;32m~\\AppData\\Local\\Programs\\Python\\Python312\\Lib\\site-packages\\sklearn\\utils\\validation.py:1263\u001b[0m, in \u001b[0;36mcheck_X_y\u001b[1;34m(X, y, accept_sparse, accept_large_sparse, dtype, order, copy, force_all_finite, ensure_2d, allow_nd, multi_output, ensure_min_samples, ensure_min_features, y_numeric, estimator)\u001b[0m\n\u001b[0;32m   1258\u001b[0m         estimator_name \u001b[38;5;241m=\u001b[39m _check_estimator_name(estimator)\n\u001b[0;32m   1259\u001b[0m     \u001b[38;5;28;01mraise\u001b[39;00m \u001b[38;5;167;01mValueError\u001b[39;00m(\n\u001b[0;32m   1260\u001b[0m         \u001b[38;5;124mf\u001b[39m\u001b[38;5;124m\"\u001b[39m\u001b[38;5;132;01m{\u001b[39;00mestimator_name\u001b[38;5;132;01m}\u001b[39;00m\u001b[38;5;124m requires y to be passed, but the target y is None\u001b[39m\u001b[38;5;124m\"\u001b[39m\n\u001b[0;32m   1261\u001b[0m     )\n\u001b[1;32m-> 1263\u001b[0m X \u001b[38;5;241m=\u001b[39m \u001b[43mcheck_array\u001b[49m\u001b[43m(\u001b[49m\n\u001b[0;32m   1264\u001b[0m \u001b[43m    \u001b[49m\u001b[43mX\u001b[49m\u001b[43m,\u001b[49m\n\u001b[0;32m   1265\u001b[0m \u001b[43m    \u001b[49m\u001b[43maccept_sparse\u001b[49m\u001b[38;5;241;43m=\u001b[39;49m\u001b[43maccept_sparse\u001b[49m\u001b[43m,\u001b[49m\n\u001b[0;32m   1266\u001b[0m \u001b[43m    \u001b[49m\u001b[43maccept_large_sparse\u001b[49m\u001b[38;5;241;43m=\u001b[39;49m\u001b[43maccept_large_sparse\u001b[49m\u001b[43m,\u001b[49m\n\u001b[0;32m   1267\u001b[0m \u001b[43m    \u001b[49m\u001b[43mdtype\u001b[49m\u001b[38;5;241;43m=\u001b[39;49m\u001b[43mdtype\u001b[49m\u001b[43m,\u001b[49m\n\u001b[0;32m   1268\u001b[0m \u001b[43m    \u001b[49m\u001b[43morder\u001b[49m\u001b[38;5;241;43m=\u001b[39;49m\u001b[43morder\u001b[49m\u001b[43m,\u001b[49m\n\u001b[0;32m   1269\u001b[0m \u001b[43m    \u001b[49m\u001b[43mcopy\u001b[49m\u001b[38;5;241;43m=\u001b[39;49m\u001b[43mcopy\u001b[49m\u001b[43m,\u001b[49m\n\u001b[0;32m   1270\u001b[0m \u001b[43m    \u001b[49m\u001b[43mforce_all_finite\u001b[49m\u001b[38;5;241;43m=\u001b[39;49m\u001b[43mforce_all_finite\u001b[49m\u001b[43m,\u001b[49m\n\u001b[0;32m   1271\u001b[0m \u001b[43m    \u001b[49m\u001b[43mensure_2d\u001b[49m\u001b[38;5;241;43m=\u001b[39;49m\u001b[43mensure_2d\u001b[49m\u001b[43m,\u001b[49m\n\u001b[0;32m   1272\u001b[0m \u001b[43m    \u001b[49m\u001b[43mallow_nd\u001b[49m\u001b[38;5;241;43m=\u001b[39;49m\u001b[43mallow_nd\u001b[49m\u001b[43m,\u001b[49m\n\u001b[0;32m   1273\u001b[0m \u001b[43m    \u001b[49m\u001b[43mensure_min_samples\u001b[49m\u001b[38;5;241;43m=\u001b[39;49m\u001b[43mensure_min_samples\u001b[49m\u001b[43m,\u001b[49m\n\u001b[0;32m   1274\u001b[0m \u001b[43m    \u001b[49m\u001b[43mensure_min_features\u001b[49m\u001b[38;5;241;43m=\u001b[39;49m\u001b[43mensure_min_features\u001b[49m\u001b[43m,\u001b[49m\n\u001b[0;32m   1275\u001b[0m \u001b[43m    \u001b[49m\u001b[43mestimator\u001b[49m\u001b[38;5;241;43m=\u001b[39;49m\u001b[43mestimator\u001b[49m\u001b[43m,\u001b[49m\n\u001b[0;32m   1276\u001b[0m \u001b[43m    \u001b[49m\u001b[43minput_name\u001b[49m\u001b[38;5;241;43m=\u001b[39;49m\u001b[38;5;124;43m\"\u001b[39;49m\u001b[38;5;124;43mX\u001b[39;49m\u001b[38;5;124;43m\"\u001b[39;49m\u001b[43m,\u001b[49m\n\u001b[0;32m   1277\u001b[0m \u001b[43m\u001b[49m\u001b[43m)\u001b[49m\n\u001b[0;32m   1279\u001b[0m y \u001b[38;5;241m=\u001b[39m _check_y(y, multi_output\u001b[38;5;241m=\u001b[39mmulti_output, y_numeric\u001b[38;5;241m=\u001b[39my_numeric, estimator\u001b[38;5;241m=\u001b[39mestimator)\n\u001b[0;32m   1281\u001b[0m check_consistent_length(X, y)\n",
      "File \u001b[1;32m~\\AppData\\Local\\Programs\\Python\\Python312\\Lib\\site-packages\\sklearn\\utils\\validation.py:879\u001b[0m, in \u001b[0;36mcheck_array\u001b[1;34m(array, accept_sparse, accept_large_sparse, dtype, order, copy, force_all_finite, ensure_2d, allow_nd, ensure_min_samples, ensure_min_features, estimator, input_name)\u001b[0m\n\u001b[0;32m    875\u001b[0m pandas_requires_conversion \u001b[38;5;241m=\u001b[39m \u001b[38;5;28many\u001b[39m(\n\u001b[0;32m    876\u001b[0m     _pandas_dtype_needs_early_conversion(i) \u001b[38;5;28;01mfor\u001b[39;00m i \u001b[38;5;129;01min\u001b[39;00m dtypes_orig\n\u001b[0;32m    877\u001b[0m )\n\u001b[0;32m    878\u001b[0m \u001b[38;5;28;01mif\u001b[39;00m \u001b[38;5;28mall\u001b[39m(\u001b[38;5;28misinstance\u001b[39m(dtype_iter, np\u001b[38;5;241m.\u001b[39mdtype) \u001b[38;5;28;01mfor\u001b[39;00m dtype_iter \u001b[38;5;129;01min\u001b[39;00m dtypes_orig):\n\u001b[1;32m--> 879\u001b[0m     dtype_orig \u001b[38;5;241m=\u001b[39m \u001b[43mnp\u001b[49m\u001b[38;5;241;43m.\u001b[39;49m\u001b[43mresult_type\u001b[49m\u001b[43m(\u001b[49m\u001b[38;5;241;43m*\u001b[39;49m\u001b[43mdtypes_orig\u001b[49m\u001b[43m)\u001b[49m\n\u001b[0;32m    880\u001b[0m \u001b[38;5;28;01melif\u001b[39;00m pandas_requires_conversion \u001b[38;5;129;01mand\u001b[39;00m \u001b[38;5;28many\u001b[39m(d \u001b[38;5;241m==\u001b[39m \u001b[38;5;28mobject\u001b[39m \u001b[38;5;28;01mfor\u001b[39;00m d \u001b[38;5;129;01min\u001b[39;00m dtypes_orig):\n\u001b[0;32m    881\u001b[0m     \u001b[38;5;66;03m# Force object if any of the dtypes is an object\u001b[39;00m\n\u001b[0;32m    882\u001b[0m     dtype_orig \u001b[38;5;241m=\u001b[39m \u001b[38;5;28mobject\u001b[39m\n",
      "\u001b[1;31mDTypePromotionError\u001b[0m: The DType <class 'numpy.dtypes.Int64DType'> could not be promoted by <class 'numpy.dtypes.DateTime64DType'>. This means that no common DType exists for the given inputs. For example they cannot be stored in a single array unless the dtype is `object`. The full list of DTypes is: (<class 'numpy.dtypes.Int64DType'>, <class 'numpy.dtypes.DateTime64DType'>)"
     ]
    }
   ],
   "source": [
    "from sklearn.ensemble import RandomForestRegressor\n",
    "\n",
    "def buildRandForest(prediction,predictors):\n",
    "    # Split prediction and predictors data\n",
    "    y = pd.DataFrame(data[prediction])\n",
    "    x = pd.DataFrame(data[predictors])\n",
    "    x_trn,x_tst,y_trn,y_tst = train_test_split(x,y,test_size=0.25)\n",
    "    \n",
    "    print(prediction)\n",
    "    print(x)\n",
    "    print(y)\n",
    "    \n",
    "    # Train decision tree\n",
    "    rf = RandomForestRegressor()\n",
    "    rf.fit(x_trn, y_trn)\n",
    "    \n",
    "    # Predict Response corresponding to Predictors\n",
    "    y_trn_pred = rf.predict(x_trn)\n",
    "    y_tst_pred = rf.predict(x_tst)\n",
    "    \n",
    "    # Check the Goodness of Fit (on Train Data)\n",
    "    print(\"Goodness of Fit of Model \\tTrain Dataset\")\n",
    "    print(\"Explained variance\\t:\", rf.score(x_trn,y_trn))\n",
    "    print(\"Mean squared error \\t:\", mean_squared_error(y_trn, y_trn_pred))\n",
    "    print()\n",
    "\n",
    "    # Check the Goodness of Fit (on Test Data)\n",
    "    print(\"Goodness of Fit of Model \\tTest Dataset\")\n",
    "    print(\"Explained variance \\t:\", rf.score(x_tst,y_tst))\n",
    "    print(\"Mean squared error \\t:\", mean_squared_error(y_tst, y_tst_pred))\n",
    "    print()\n",
    "    \n",
    "    # Plot (two) trees\n",
    "#     for i in range(min(2,len(rf.estimators_))):\n",
    "#         plt.figure(figsize=(30,15), dpi=300)\n",
    "#         plot_tree(rf.estimators_[i])\n",
    "#         plt.show()    \n",
    "#==============================================================#\n",
    "\n",
    "data.dropna(inplace=True)\n",
    "buildRandForest('resale_price',['floor_area_sqm','lease_commence_date'])"
   ]
  },
  {
   "cell_type": "code",
   "execution_count": null,
   "id": "3905f69c-467b-4677-b371-b73cde927959",
   "metadata": {},
   "outputs": [],
   "source": []
  }
 ],
 "metadata": {
  "kernelspec": {
   "display_name": "Python 3 (ipykernel)",
   "language": "python",
   "name": "python3"
  },
  "language_info": {
   "codemirror_mode": {
    "name": "ipython",
    "version": 3
   },
   "file_extension": ".py",
   "mimetype": "text/x-python",
   "name": "python",
   "nbconvert_exporter": "python",
   "pygments_lexer": "ipython3",
   "version": "3.12.2"
  }
 },
 "nbformat": 4,
 "nbformat_minor": 5
}
