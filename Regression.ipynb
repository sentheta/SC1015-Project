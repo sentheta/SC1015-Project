{
 "cells": [
  {
   "cell_type": "markdown",
   "id": "6b9864fb-1032-480f-99db-56f9287a3b6f",
   "metadata": {},
   "source": [
    "### Libraries"
   ]
  },
  {
   "cell_type": "code",
   "execution_count": 1,
   "id": "5b05d52f",
   "metadata": {},
   "outputs": [
    {
     "name": "stderr",
     "output_type": "stream",
     "text": [
      "/usr/lib/python3/dist-packages/scipy/__init__.py:146: UserWarning: A NumPy version >=1.17.3 and <1.25.0 is required for this version of SciPy (detected version 1.26.4\n",
      "  warnings.warn(f\"A NumPy version >={np_minversion} and <{np_maxversion}\"\n"
     ]
    }
   ],
   "source": [
    "import numpy as np\n",
    "import pandas as pd\n",
    "import seaborn as sb\n",
    "import matplotlib.pyplot as plt\n",
    "import warnings\n",
    "\n",
    "from sklearn.model_selection import train_test_split \n",
    "from sklearn.preprocessing import LabelEncoder, StandardScaler\n",
    "from sklearn.metrics import mean_squared_error, r2_score\n",
    "\n",
    "from sklearn.linear_model import Ridge, BayesianRidge, LinearRegression\n",
    "from sklearn.ensemble import GradientBoostingRegressor, RandomForestRegressor\n",
    "\n",
    "sb.set()\n",
    "warnings.filterwarnings('ignore')"
   ]
  },
  {
   "cell_type": "markdown",
   "id": "180b0b07-01ba-416d-b71d-a11fb7fdff1c",
   "metadata": {},
   "source": [
    "### Importing dataset"
   ]
  },
  {
   "cell_type": "code",
   "execution_count": 20,
   "id": "d07122d3",
   "metadata": {
    "scrolled": true
   },
   "outputs": [],
   "source": [
    "data = pd.read_csv(\"cleaned-Housing.csv\")\n",
    "train_data = pd.read_csv(\"train-Housing.csv\")\n",
    "test_data = pd.read_csv(\"test-Housing.csv\")"
   ]
  },
  {
   "cell_type": "markdown",
   "id": "393e8542",
   "metadata": {},
   "source": [
    "We encode `storey_range` since they present ordering-like-structure. They will be utilized in our regression."
   ]
  },
  {
   "cell_type": "code",
   "execution_count": 37,
   "id": "00c40b45",
   "metadata": {},
   "outputs": [
    {
     "name": "stdout",
     "output_type": "stream",
     "text": [
      "[ 5  2  4  0  7 10  8 13 12 15 16 20 19 17  3  1  6  9 11 14 18]\n"
     ]
    }
   ],
   "source": [
    "print(data['storey_range'].unique())\n",
    "# Encode storey_range\n",
    "label_encoders = LabelEncoder()\n",
    "categorical_cols = ['storey_range']\n",
    "for col in categorical_cols:\n",
    "    data[col] = label_encoders.fit_transform(data[col])\n",
    "    train_data[col] = label_encoders.fit_transform(train_data[col])\n",
    "    test_data[col] = label_encoders.fit_transform(test_data[col])"
   ]
  },
  {
   "cell_type": "markdown",
   "id": "397162c7",
   "metadata": {},
   "source": [
    "These are the four candidates variable that we think may have significant impact on `resale_price`"
   ]
  },
  {
   "cell_type": "code",
   "execution_count": 42,
   "id": "dce8cace",
   "metadata": {},
   "outputs": [],
   "source": [
    "candidates = ['floor_area_sqm', 'lease_commence_date', 'storey_range', 'resale_year']"
   ]
  },
  {
   "cell_type": "code",
   "execution_count": 26,
   "id": "ca299942-1897-419e-bdec-e24e11c9f50f",
   "metadata": {},
   "outputs": [
    {
     "data": {
      "text/html": [
       "<div>\n",
       "<style scoped>\n",
       "    .dataframe tbody tr th:only-of-type {\n",
       "        vertical-align: middle;\n",
       "    }\n",
       "\n",
       "    .dataframe tbody tr th {\n",
       "        vertical-align: top;\n",
       "    }\n",
       "\n",
       "    .dataframe thead th {\n",
       "        text-align: right;\n",
       "    }\n",
       "</style>\n",
       "<table border=\"1\" class=\"dataframe\">\n",
       "  <thead>\n",
       "    <tr style=\"text-align: right;\">\n",
       "      <th></th>\n",
       "      <th>month</th>\n",
       "      <th>town</th>\n",
       "      <th>flat_type</th>\n",
       "      <th>block</th>\n",
       "      <th>street_name</th>\n",
       "      <th>storey_range</th>\n",
       "      <th>floor_area_sqm</th>\n",
       "      <th>flat_model</th>\n",
       "      <th>lease_commence_date</th>\n",
       "      <th>resale_price</th>\n",
       "      <th>resale_year</th>\n",
       "    </tr>\n",
       "  </thead>\n",
       "  <tbody>\n",
       "    <tr>\n",
       "      <th>0</th>\n",
       "      <td>1990-01</td>\n",
       "      <td>ANG MO KIO</td>\n",
       "      <td>0</td>\n",
       "      <td>309</td>\n",
       "      <td>ANG MO KIO AVE 1</td>\n",
       "      <td>5</td>\n",
       "      <td>31.0</td>\n",
       "      <td>6</td>\n",
       "      <td>1977</td>\n",
       "      <td>9000.0</td>\n",
       "      <td>1990</td>\n",
       "    </tr>\n",
       "    <tr>\n",
       "      <th>1</th>\n",
       "      <td>1990-01</td>\n",
       "      <td>ANG MO KIO</td>\n",
       "      <td>0</td>\n",
       "      <td>309</td>\n",
       "      <td>ANG MO KIO AVE 1</td>\n",
       "      <td>2</td>\n",
       "      <td>31.0</td>\n",
       "      <td>6</td>\n",
       "      <td>1977</td>\n",
       "      <td>6000.0</td>\n",
       "      <td>1990</td>\n",
       "    </tr>\n",
       "    <tr>\n",
       "      <th>2</th>\n",
       "      <td>1990-01</td>\n",
       "      <td>ANG MO KIO</td>\n",
       "      <td>0</td>\n",
       "      <td>309</td>\n",
       "      <td>ANG MO KIO AVE 1</td>\n",
       "      <td>5</td>\n",
       "      <td>31.0</td>\n",
       "      <td>6</td>\n",
       "      <td>1977</td>\n",
       "      <td>8000.0</td>\n",
       "      <td>1990</td>\n",
       "    </tr>\n",
       "    <tr>\n",
       "      <th>3</th>\n",
       "      <td>1990-01</td>\n",
       "      <td>ANG MO KIO</td>\n",
       "      <td>0</td>\n",
       "      <td>309</td>\n",
       "      <td>ANG MO KIO AVE 1</td>\n",
       "      <td>4</td>\n",
       "      <td>31.0</td>\n",
       "      <td>6</td>\n",
       "      <td>1977</td>\n",
       "      <td>6000.0</td>\n",
       "      <td>1990</td>\n",
       "    </tr>\n",
       "    <tr>\n",
       "      <th>4</th>\n",
       "      <td>1990-01</td>\n",
       "      <td>ANG MO KIO</td>\n",
       "      <td>2</td>\n",
       "      <td>216</td>\n",
       "      <td>ANG MO KIO AVE 1</td>\n",
       "      <td>2</td>\n",
       "      <td>73.0</td>\n",
       "      <td>19</td>\n",
       "      <td>1976</td>\n",
       "      <td>47200.0</td>\n",
       "      <td>1990</td>\n",
       "    </tr>\n",
       "  </tbody>\n",
       "</table>\n",
       "</div>"
      ],
      "text/plain": [
       "     month        town  flat_type block       street_name  storey_range  \\\n",
       "0  1990-01  ANG MO KIO          0   309  ANG MO KIO AVE 1             5   \n",
       "1  1990-01  ANG MO KIO          0   309  ANG MO KIO AVE 1             2   \n",
       "2  1990-01  ANG MO KIO          0   309  ANG MO KIO AVE 1             5   \n",
       "3  1990-01  ANG MO KIO          0   309  ANG MO KIO AVE 1             4   \n",
       "4  1990-01  ANG MO KIO          2   216  ANG MO KIO AVE 1             2   \n",
       "\n",
       "   floor_area_sqm  flat_model  lease_commence_date  resale_price  resale_year  \n",
       "0            31.0           6                 1977        9000.0         1990  \n",
       "1            31.0           6                 1977        6000.0         1990  \n",
       "2            31.0           6                 1977        8000.0         1990  \n",
       "3            31.0           6                 1977        6000.0         1990  \n",
       "4            73.0          19                 1976       47200.0         1990  "
      ]
     },
     "execution_count": 26,
     "metadata": {},
     "output_type": "execute_result"
    }
   ],
   "source": [
    "data.head()"
   ]
  },
  {
   "cell_type": "markdown",
   "id": "b1015b2e-e333-4beb-925a-3042c594c55a",
   "metadata": {},
   "source": [
    "### Linear Regression Model Function"
   ]
  },
  {
   "cell_type": "code",
   "execution_count": 38,
   "id": "25711abf-02b0-46e5-ab66-7ac9ba6f3f76",
   "metadata": {},
   "outputs": [],
   "source": [
    "def linear_regression(predictor):\n",
    "    # Prepare the data\n",
    "    X_train = train_data[predictor]\n",
    "    X_test = test_data[predictor]\n",
    "    y_train = train_data['resale_price']\n",
    "    y_test = test_data['resale_price']\n",
    "\n",
    "    # Initialize and train the model\n",
    "    model = LinearRegression()\n",
    "    model.fit(X_train, y_train)\n",
    "    \n",
    "    # Predict and evaluate the model\n",
    "    y_pred = model.predict(X_test)\n",
    "    mse = mean_squared_error(y_test, y_pred)\n",
    "    r2 = r2_score(y_test, y_pred)\n",
    "    \n",
    "    # Print the performance\n",
    "    print(f'Linear Regression using {predictor}:')\n",
    "    print(f'Mean Squared Error (MSE): {mse}')\n",
    "    print(f'R-squared Score: {r2}\\n')\n",
    "    print();"
   ]
  },
  {
   "cell_type": "code",
   "execution_count": 56,
   "id": "5555e86d-a134-4262-aa76-ef8bd4d07bda",
   "metadata": {},
   "outputs": [
    {
     "name": "stdout",
     "output_type": "stream",
     "text": [
      "Linear Regression using ['floor_area_sqm']:\n",
      "Mean Squared Error (MSE): 10759844588.638773\n",
      "R-squared Score: 0.4078269189637921\n",
      "\n",
      "Linear Regression using ['lease_commence_date']:\n",
      "Mean Squared Error (MSE): 13728028202.8894\n",
      "R-squared Score: 0.24447154505923774\n",
      "\n",
      "Linear Regression using ['storey_range']:\n",
      "Mean Squared Error (MSE): 17759011196.92869\n",
      "R-squared Score: 0.0226245100467376\n",
      "\n",
      "Linear Regression using ['resale_year']:\n",
      "Mean Squared Error (MSE): 11805276560.963236\n",
      "R-squared Score: 0.35029108125115316\n",
      "\n",
      "Linear Regression using ['floor_area_sqm', 'lease_commence_date', 'storey_range', 'resale_year']:\n",
      "Mean Squared Error (MSE): 4838937896.31295\n",
      "R-squared Score: 0.7336867889311198\n",
      "\n"
     ]
    }
   ],
   "source": [
    "for var in candidates:\n",
    "    linear_regression([var])\n",
    "linear_regression(candidates)"
   ]
  },
  {
   "cell_type": "markdown",
   "id": "4ac84f25-271d-458c-a8e5-8a2a47068c64",
   "metadata": {},
   "source": [
    "The MSE for 'floor_area_sqm' and 'lease_commence_date' are both high, indicating that the models may not be fitting the data well. The R^2 value for 'floor_area_sqm' is slightly higher than that for 'lease_commence_date', suggesting that 'floor_area_sqm' is a slightly better predictor of 'resale_price' than 'lease_commence_date', but overall, both models explain a very small portion of the variance in 'resale_price'."
   ]
  },
  {
   "cell_type": "markdown",
   "id": "93ded24d-5497-4af6-a947-a0b66a8573c9",
   "metadata": {},
   "source": [
    "### Ridge Regression Model Function"
   ]
  },
  {
   "cell_type": "code",
   "execution_count": 53,
   "id": "1d7e1120-faeb-4c49-9700-6c1a5c43ea33",
   "metadata": {},
   "outputs": [],
   "source": [
    "def ridge_regression(predictor):\n",
    "    # Prepare the data\n",
    "    X_train = train_data[predictor]\n",
    "    X_test = test_data[predictor]\n",
    "    y_train = train_data['resale_price']\n",
    "    y_test = test_data['resale_price']\n",
    "\n",
    "    # Initialize and train the Ridge Regression model\n",
    "    ridge_reg_model = Ridge(alpha=1.0)\n",
    "    ridge_reg_model.fit(X_train, y_train)\n",
    "\n",
    "    # Make predictions on the test data\n",
    "    y_pred_ridge = ridge_reg_model.predict(X_test)\n",
    "\n",
    "    # Evaluate the model performance\n",
    "    mse_ridge = mean_squared_error(y_test, y_pred_ridge)\n",
    "    r2_ridge = r2_score(y_test, y_pred_ridge)\n",
    "\n",
    "    # Print out the model performance metrics for Ridge Regression\n",
    "    print(f'Ridge Regression using {predictor}:')\n",
    "    print(f'Mean Squared Error (MSE): {mse_ridge}')\n",
    "    print(f'R-squared Score: {r2_ridge}\\n')"
   ]
  },
  {
   "cell_type": "code",
   "execution_count": 55,
   "id": "519fa8a2",
   "metadata": {
    "scrolled": true
   },
   "outputs": [
    {
     "name": "stdout",
     "output_type": "stream",
     "text": [
      "Ridge Regression using ['floor_area_sqm']:\n",
      "Mean Squared Error (MSE): 10759844588.339684\n",
      "R-squared Score: 0.4078269189802526\n",
      "\n",
      "Ridge Regression using ['lease_commence_date']:\n",
      "Mean Squared Error (MSE): 13728028201.250164\n",
      "R-squared Score: 0.24447154514945402\n",
      "\n",
      "Ridge Regression using ['storey_range']:\n",
      "Mean Squared Error (MSE): 17759011201.01285\n",
      "R-squared Score: 0.022624509821963956\n",
      "\n",
      "Ridge Regression using ['resale_year']:\n",
      "Mean Squared Error (MSE): 11805276559.323626\n",
      "R-squared Score: 0.35029108134138975\n",
      "\n",
      "Ridge Regression using ['floor_area_sqm', 'lease_commence_date', 'storey_range', 'resale_year']:\n",
      "Mean Squared Error (MSE): 4838937897.134691\n",
      "R-squared Score: 0.7336867888858949\n",
      "\n"
     ]
    }
   ],
   "source": [
    "for var in candidates:\n",
    "    ridge_regression([var])\n",
    "ridge_regression(candidates)"
   ]
  },
  {
   "cell_type": "markdown",
   "id": "ee2dcf30-fd88-432a-b5bb-3b6f99d3b26f",
   "metadata": {},
   "source": [
    "### Bayesian Ridge Regression Model Function"
   ]
  },
  {
   "cell_type": "code",
   "execution_count": 61,
   "id": "ebd78dca-1ffb-4e2a-9d53-220953da11b2",
   "metadata": {},
   "outputs": [],
   "source": [
    "def bayesian_ridge_regression(predictor):  \n",
    "    # Prepare the data\n",
    "    X_train = train_data[predictor]\n",
    "    X_test = test_data[predictor]\n",
    "    y_train = train_data['resale_price']\n",
    "    y_test = test_data['resale_price']\n",
    "\n",
    "    # Initialize and train the model\n",
    "    model = BayesianRidge()\n",
    "    model.fit(X_train, y_train)\n",
    "    \n",
    "    # Predict and evaluate the model\n",
    "    y_pred = model.predict(X_test)\n",
    "    mse = mean_squared_error(y_test, y_pred)\n",
    "    r2 = r2_score(y_test, y_pred)\n",
    "    \n",
    "    # Print the performance\n",
    "    print(f'Bayesian Ridge Regression using {predictor}:')\n",
    "    print(f'Mean Squared Error (MSE): {mse}')\n",
    "    print(f'R-squared Score: {r2}\\n')\n",
    "    print()"
   ]
  },
  {
   "cell_type": "code",
   "execution_count": 62,
   "id": "33738efe-5554-4018-89d6-0362a2146e57",
   "metadata": {
    "scrolled": false
   },
   "outputs": [
    {
     "name": "stdout",
     "output_type": "stream",
     "text": [
      "Bayesian Ridge Regression using ['floor_area_sqm']:\n",
      "Mean Squared Error (MSE): 10759844302.771444\n",
      "R-squared Score: 0.4078269346966342\n",
      "\n",
      "\n",
      "Bayesian Ridge Regression using ['lease_commence_date']:\n",
      "Mean Squared Error (MSE): 13728027770.633022\n",
      "R-squared Score: 0.24447156884866972\n",
      "\n",
      "\n",
      "Bayesian Ridge Regression using ['storey_range']:\n",
      "Mean Squared Error (MSE): 17759012326.357716\n",
      "R-squared Score: 0.022624447888082933\n",
      "\n",
      "\n",
      "Bayesian Ridge Regression using ['resale_year']:\n",
      "Mean Squared Error (MSE): 11805276374.580502\n",
      "R-squared Score: 0.350291091508814\n",
      "\n",
      "\n",
      "Bayesian Ridge Regression using ['floor_area_sqm', 'lease_commence_date', 'storey_range', 'resale_year']:\n",
      "Mean Squared Error (MSE): 4838938019.043185\n",
      "R-squared Score: 0.7336867821766039\n",
      "\n",
      "\n"
     ]
    }
   ],
   "source": [
    "for var in candidates:\n",
    "    bayesian_ridge_regression([var])\n",
    "bayesian_ridge_regression(candidates)"
   ]
  },
  {
   "cell_type": "markdown",
   "id": "57ec5fa5-6b30-44a4-ad0a-1a1367b6b61b",
   "metadata": {},
   "source": [
    "The Bayesian Ridge model is incorporating prior distributions over the weights and automatically tuning its regularization parameters. Despite this, the predictive power does not significantly improve compared to the standard Ridge Regression, as indicated by the similar MSE and R^2 values."
   ]
  },
  {
   "cell_type": "code",
   "execution_count": 63,
   "id": "106b477a-7972-40b3-96aa-db3a5052eaa5",
   "metadata": {},
   "outputs": [
    {
     "name": "stdout",
     "output_type": "stream",
     "text": [
      "The average resale price is: 285461.57954690786\n"
     ]
    }
   ],
   "source": [
    "average_resale_price = data['resale_price'].mean()\n",
    "\n",
    "print(f\"The average resale price is: {average_resale_price}\")"
   ]
  },
  {
   "cell_type": "markdown",
   "id": "43540b84-d0b1-46f9-96bb-65ca4d4274e3",
   "metadata": {},
   "source": [
    "It is important to note that eventhough the MSE seems high it is acceptable because the reatail prices usually vary widely. Housing prices, such as those for HDB flats, can range significantly. An MSE of tens of millions might seem large, but if the resale prices range from tens of thousands to multiple millions, the MSE might be relatively small when considered as a percentage of the price range. The square root of the MSE gives you the Root Mean Squared Error (RMSE), which is on the same scale as the prices themselves. For example, if the RMSE is 70,000, this means the average prediction error is 70,000. If the average housing price is around 500,000 or more, a 70,000 error might be a reasonable margin for certain applications, like a quick market estimate."
   ]
  },
  {
   "cell_type": "markdown",
   "id": "326dd197-d64b-413f-98ae-3a298f9a5c71",
   "metadata": {},
   "source": [
    "Thus, we moved on to try other complex models like Gradient Boosting and Random Forest"
   ]
  },
  {
   "cell_type": "markdown",
   "id": "02fb7248-725c-4950-92ac-5a9f230967aa",
   "metadata": {},
   "source": [
    "### Gradient Boosting Regressor Model"
   ]
  },
  {
   "cell_type": "code",
   "execution_count": 74,
   "id": "0782a2c0",
   "metadata": {
    "scrolled": true
   },
   "outputs": [],
   "source": [
    "def gradient_boosting_regression(predictor):\n",
    "    # Prepare the data\n",
    "    X_train = train_data[predictor]\n",
    "    X_test = test_data[predictor]\n",
    "    y_train = train_data['resale_price']\n",
    "    y_test = test_data['resale_price']\n",
    "\n",
    "    # Initialize and train the Gradient Boosting Regressor model\n",
    "    gb_regressor = GradientBoostingRegressor()\n",
    "    gb_regressor.fit(X_train, y_train)\n",
    "\n",
    "    # Make predictions\n",
    "    y_pred = gb_regressor.predict(X_test)\n",
    "\n",
    "    # Evaluate the model\n",
    "    r2 = r2_score(y_test, y_pred)\n",
    "    mse = mean_squared_error(y_test, y_pred)\n",
    "    print(f'Gradient Boosting Regression using {predictor}:')\n",
    "    print(f\"Mean Squared Error: {mse}\")\n",
    "    print(f'R-squared Score: {r2}\\n')\n",
    "    print();"
   ]
  },
  {
   "cell_type": "code",
   "execution_count": null,
   "id": "2ba9cec3",
   "metadata": {},
   "outputs": [],
   "source": [
    "for var in candidates:\n",
    "    gradient_boosting_regression([var])\n",
    "gradient_boosting_regression(candidates)"
   ]
  },
  {
   "cell_type": "markdown",
   "id": "cae093f1-b3b6-4e50-999f-1aad83a59e2e",
   "metadata": {},
   "source": [
    "Compared to linear models, this model is more robust and captures the interaction between different varibles like 'floor_area_sqm' and 'flat_type' effectively. It provided more flexibility in considering more varibles both categorical and numerical.\n",
    "\n",
    " We can see thet the MSE also decreased in using the model and eventhough it is still high, the absolute error would be a less percentage of high 'resale_price' value."
   ]
  },
  {
   "cell_type": "markdown",
   "id": "70cfd84d-18b3-4bb8-9665-0b4a54913629",
   "metadata": {},
   "source": [
    "We can see that the MSE has increased after removing the outliers which could be beacuse of the following reasons:\n",
    "\n",
    "The removed outliers may have been influential points that were actually well-predicted by the model. If these points were not errors but valid extreme values, the model might have been leveraging these data points to better fit the overall trend. Without them, the model might not capture the full range of the data as well.\n",
    "\n",
    "Tree-based models like Gradient Boosting, can be sensitive to the removal of data points. The decision boundaries or split points might change significantly when outliers are removed, leading to a poorer fit to the remaining data."
   ]
  },
  {
   "cell_type": "markdown",
   "id": "d0743215-2626-4902-a685-9eca800ef17f",
   "metadata": {},
   "source": [
    "### Random Forest Regressor Model"
   ]
  },
  {
   "cell_type": "code",
   "execution_count": 72,
   "id": "ab0060fc",
   "metadata": {},
   "outputs": [],
   "source": [
    "def random_forest_regression(predictor):\n",
    "    # Prepare the data\n",
    "    X_train = train_data[predictor]\n",
    "    X_test = test_data[predictor]\n",
    "    y_train = train_data['resale_price']\n",
    "    y_test = test_data['resale_price']\n",
    "\n",
    "    # Train decision tree\n",
    "    rf = RandomForestRegressor()\n",
    "    rf.fit(X_train, y_train)\n",
    "    \n",
    "    # Predict Response corresponding to Predictors\n",
    "    y_pred = rf.predict(X_test)\n",
    "    \n",
    "    # Check the Goodness of Fit (on Train Data)\n",
    "    r2 = r2_score(y_test, y_pred)\n",
    "    mse = mean_squared_error(y_test, y_pred)\n",
    "    print(f'Random Forest Regression using {predictor}:')\n",
    "    print(f\"Mean Squared Error: {mse}\")\n",
    "    print(f'R-squared Score: {r2}\\n')\n",
    "    print();\n",
    "    \n",
    "    # Plot trees is not useful since the number of nodes is incomprehensible thus not providing significant insights\n",
    "#     for i in range(min(2,len(rf.estimators_))):\n",
    "#         plt.figure(figsize=(30,15), dpi=300)\n",
    "#         plot_tree(rf.estimators_[i])\n",
    "#         plt.show()"
   ]
  },
  {
   "cell_type": "code",
   "execution_count": 73,
   "id": "1ed7088c",
   "metadata": {},
   "outputs": [
    {
     "name": "stdout",
     "output_type": "stream",
     "text": [
      "Random Forest Regression using ['floor_area_sqm']:\n",
      "Mean Squared Error: 10043238356.085766\n",
      "R-squared Score: 0.447265678243711\n",
      "\n",
      "\n",
      "Random Forest Regression using ['lease_commence_date']:\n",
      "Mean Squared Error: 13205259030.104958\n",
      "R-squared Score: 0.2732423910661945\n",
      "\n",
      "\n",
      "Random Forest Regression using ['storey_range']:\n",
      "Mean Squared Error: 17331908076.044346\n",
      "R-squared Score: 0.04613033012905732\n",
      "\n",
      "\n",
      "Random Forest Regression using ['resale_year']:\n",
      "Mean Squared Error: 9681720670.235817\n",
      "R-squared Score: 0.46716197322411346\n",
      "\n",
      "\n",
      "Random Forest Regression using ['floor_area_sqm', 'lease_commence_date', 'storey_range', 'resale_year']:\n",
      "Mean Squared Error: 1712660908.191451\n",
      "R-squared Score: 0.9057429056322173\n",
      "\n",
      "\n"
     ]
    }
   ],
   "source": [
    "for var in candidates:\n",
    "    random_forest_regression([var])\n",
    "random_forest_regression(candidates)"
   ]
  },
  {
   "cell_type": "markdown",
   "id": "74af1e54",
   "metadata": {},
   "source": [
    "The Random Forest algorithm constructs multiple decision trees during training and outputs the mean prediction of the individual trees for regression tasks, or the class that is the mode of the classes for classification tasks.\n",
    "\n",
    "Building the regression tree using `year` and `lease_commence_date` instead of only `floor_area_sqm` shows a jump of the explained variance from around 60% to above 70%. This shows that `year` and `lease_commence_date` are also quite relevant factors toward `resale_price`\n",
    "\n",
    "Explained variance for the training, it's around 79.5%, indicating that the model explains a substantial portion of the variance in the resale price data. The explained variance is for the test set is at around 74.29% suggesting that the model generalizes well to unseen data."
   ]
  }
 ],
 "metadata": {
  "kernelspec": {
   "display_name": "Python 3 (ipykernel)",
   "language": "python",
   "name": "python3"
  },
  "language_info": {
   "codemirror_mode": {
    "name": "ipython",
    "version": 3
   },
   "file_extension": ".py",
   "mimetype": "text/x-python",
   "name": "python",
   "nbconvert_exporter": "python",
   "pygments_lexer": "ipython3",
   "version": "3.10.12"
  }
 },
 "nbformat": 4,
 "nbformat_minor": 5
}
