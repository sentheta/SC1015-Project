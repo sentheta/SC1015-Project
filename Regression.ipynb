{
 "cells": [
  {
   "cell_type": "markdown",
   "id": "6b9864fb-1032-480f-99db-56f9287a3b6f",
   "metadata": {},
   "source": [
    "## Libraries"
   ]
  },
  {
   "cell_type": "code",
   "execution_count": 2,
   "id": "5b05d52f",
   "metadata": {},
   "outputs": [
    {
     "name": "stderr",
     "output_type": "stream",
     "text": [
      "/usr/lib/python3/dist-packages/scipy/__init__.py:146: UserWarning: A NumPy version >=1.17.3 and <1.25.0 is required for this version of SciPy (detected version 1.26.4\n",
      "  warnings.warn(f\"A NumPy version >={np_minversion} and <{np_maxversion}\"\n"
     ]
    }
   ],
   "source": [
    "import numpy as np\n",
    "import pandas as pd\n",
    "import seaborn as sb\n",
    "import matplotlib.pyplot as plt\n",
    "import warnings\n",
    "\n",
    "from sklearn.model_selection import train_test_split \n",
    "from sklearn.preprocessing import LabelEncoder, StandardScaler\n",
    "from sklearn.metrics import mean_squared_error, r2_score\n",
    "\n",
    "from sklearn.linear_model import Ridge, BayesianRidge, LinearRegression\n",
    "from sklearn.ensemble import GradientBoostingRegressor, RandomForestRegressor\n",
    "\n",
    "sb.set()\n",
    "warnings.filterwarnings('ignore')"
   ]
  },
  {
   "cell_type": "markdown",
   "id": "180b0b07-01ba-416d-b71d-a11fb7fdff1c",
   "metadata": {},
   "source": [
    "## Dataset Preparation"
   ]
  },
  {
   "cell_type": "code",
   "execution_count": 3,
   "id": "d07122d3",
   "metadata": {
    "scrolled": true
   },
   "outputs": [],
   "source": [
    "data = pd.read_csv(\"cleaned-Housing.csv\")\n",
    "train_data = pd.read_csv(\"train-Housing.csv\")\n",
    "test_data = pd.read_csv(\"test-Housing.csv\")"
   ]
  },
  {
   "cell_type": "markdown",
   "id": "393e8542",
   "metadata": {},
   "source": [
    "We encode `storey_range` since they present ordering-like-structure. They will be utilized in our regression."
   ]
  },
  {
   "cell_type": "code",
   "execution_count": 3,
   "id": "00c40b45",
   "metadata": {},
   "outputs": [],
   "source": [
    "# Encode storey_range\n",
    "label_encoders = LabelEncoder()\n",
    "categorical_cols = ['storey_range']\n",
    "for col in categorical_cols:\n",
    "    data[col] = label_encoders.fit_transform(data[col])\n",
    "    train_data[col] = label_encoders.fit_transform(train_data[col])\n",
    "    test_data[col] = label_encoders.fit_transform(test_data[col])"
   ]
  },
  {
   "cell_type": "code",
   "execution_count": 4,
   "id": "ca299942-1897-419e-bdec-e24e11c9f50f",
   "metadata": {},
   "outputs": [
    {
     "data": {
      "text/html": [
       "<div>\n",
       "<style scoped>\n",
       "    .dataframe tbody tr th:only-of-type {\n",
       "        vertical-align: middle;\n",
       "    }\n",
       "\n",
       "    .dataframe tbody tr th {\n",
       "        vertical-align: top;\n",
       "    }\n",
       "\n",
       "    .dataframe thead th {\n",
       "        text-align: right;\n",
       "    }\n",
       "</style>\n",
       "<table border=\"1\" class=\"dataframe\">\n",
       "  <thead>\n",
       "    <tr style=\"text-align: right;\">\n",
       "      <th></th>\n",
       "      <th>month</th>\n",
       "      <th>town</th>\n",
       "      <th>flat_type</th>\n",
       "      <th>block</th>\n",
       "      <th>street_name</th>\n",
       "      <th>storey_range</th>\n",
       "      <th>floor_area_sqm</th>\n",
       "      <th>flat_model</th>\n",
       "      <th>lease_commence_date</th>\n",
       "      <th>resale_price</th>\n",
       "      <th>resale_year</th>\n",
       "    </tr>\n",
       "  </thead>\n",
       "  <tbody>\n",
       "    <tr>\n",
       "      <th>0</th>\n",
       "      <td>1990-01</td>\n",
       "      <td>ANG MO KIO</td>\n",
       "      <td>1 ROOM</td>\n",
       "      <td>309</td>\n",
       "      <td>ANG MO KIO AVE 1</td>\n",
       "      <td>5</td>\n",
       "      <td>31.0</td>\n",
       "      <td>IMPROVED</td>\n",
       "      <td>1977</td>\n",
       "      <td>9000.0</td>\n",
       "      <td>1990</td>\n",
       "    </tr>\n",
       "    <tr>\n",
       "      <th>1</th>\n",
       "      <td>1990-01</td>\n",
       "      <td>ANG MO KIO</td>\n",
       "      <td>1 ROOM</td>\n",
       "      <td>309</td>\n",
       "      <td>ANG MO KIO AVE 1</td>\n",
       "      <td>2</td>\n",
       "      <td>31.0</td>\n",
       "      <td>IMPROVED</td>\n",
       "      <td>1977</td>\n",
       "      <td>6000.0</td>\n",
       "      <td>1990</td>\n",
       "    </tr>\n",
       "    <tr>\n",
       "      <th>2</th>\n",
       "      <td>1990-01</td>\n",
       "      <td>ANG MO KIO</td>\n",
       "      <td>1 ROOM</td>\n",
       "      <td>309</td>\n",
       "      <td>ANG MO KIO AVE 1</td>\n",
       "      <td>5</td>\n",
       "      <td>31.0</td>\n",
       "      <td>IMPROVED</td>\n",
       "      <td>1977</td>\n",
       "      <td>8000.0</td>\n",
       "      <td>1990</td>\n",
       "    </tr>\n",
       "    <tr>\n",
       "      <th>3</th>\n",
       "      <td>1990-01</td>\n",
       "      <td>ANG MO KIO</td>\n",
       "      <td>1 ROOM</td>\n",
       "      <td>309</td>\n",
       "      <td>ANG MO KIO AVE 1</td>\n",
       "      <td>4</td>\n",
       "      <td>31.0</td>\n",
       "      <td>IMPROVED</td>\n",
       "      <td>1977</td>\n",
       "      <td>6000.0</td>\n",
       "      <td>1990</td>\n",
       "    </tr>\n",
       "    <tr>\n",
       "      <th>4</th>\n",
       "      <td>1990-01</td>\n",
       "      <td>ANG MO KIO</td>\n",
       "      <td>3 ROOM</td>\n",
       "      <td>216</td>\n",
       "      <td>ANG MO KIO AVE 1</td>\n",
       "      <td>2</td>\n",
       "      <td>73.0</td>\n",
       "      <td>NEW GENERATION</td>\n",
       "      <td>1976</td>\n",
       "      <td>47200.0</td>\n",
       "      <td>1990</td>\n",
       "    </tr>\n",
       "  </tbody>\n",
       "</table>\n",
       "</div>"
      ],
      "text/plain": [
       "     month        town flat_type block       street_name  storey_range  \\\n",
       "0  1990-01  ANG MO KIO    1 ROOM   309  ANG MO KIO AVE 1             5   \n",
       "1  1990-01  ANG MO KIO    1 ROOM   309  ANG MO KIO AVE 1             2   \n",
       "2  1990-01  ANG MO KIO    1 ROOM   309  ANG MO KIO AVE 1             5   \n",
       "3  1990-01  ANG MO KIO    1 ROOM   309  ANG MO KIO AVE 1             4   \n",
       "4  1990-01  ANG MO KIO    3 ROOM   216  ANG MO KIO AVE 1             2   \n",
       "\n",
       "   floor_area_sqm      flat_model  lease_commence_date  resale_price  \\\n",
       "0            31.0        IMPROVED                 1977        9000.0   \n",
       "1            31.0        IMPROVED                 1977        6000.0   \n",
       "2            31.0        IMPROVED                 1977        8000.0   \n",
       "3            31.0        IMPROVED                 1977        6000.0   \n",
       "4            73.0  NEW GENERATION                 1976       47200.0   \n",
       "\n",
       "   resale_year  \n",
       "0         1990  \n",
       "1         1990  \n",
       "2         1990  \n",
       "3         1990  \n",
       "4         1990  "
      ]
     },
     "execution_count": 4,
     "metadata": {},
     "output_type": "execute_result"
    }
   ],
   "source": [
    "data.head()"
   ]
  },
  {
   "cell_type": "markdown",
   "id": "397162c7",
   "metadata": {},
   "source": [
    "These are the four candidates variable that we think may have significant impact on `resale_price`. They are `floor_area_sqm`, `lease_commence_date`, `storey_range`, and `resale_year`."
   ]
  },
  {
   "cell_type": "code",
   "execution_count": 5,
   "id": "dce8cace",
   "metadata": {},
   "outputs": [],
   "source": [
    "candidates = ['floor_area_sqm', 'lease_commence_date', 'storey_range', 'resale_year']"
   ]
  },
  {
   "cell_type": "markdown",
   "id": "bf792551",
   "metadata": {},
   "source": [
    "In the following section, we will be building 5 different machine learning models using each of the candidate variables at a time, as well as all of them at the same time. With this, we hope to evaluate the impact of each of variable towards `resale_price`. We will evaluate the result altogether at the end of this notebook."
   ]
  },
  {
   "cell_type": "markdown",
   "id": "b1015b2e-e333-4beb-925a-3042c594c55a",
   "metadata": {},
   "source": [
    "## Linear Regression Model"
   ]
  },
  {
   "cell_type": "code",
   "execution_count": 6,
   "id": "25711abf-02b0-46e5-ab66-7ac9ba6f3f76",
   "metadata": {},
   "outputs": [],
   "source": [
    "def linear_regression(predictor):\n",
    "    # Prepare the data\n",
    "    X_train = train_data[predictor]\n",
    "    X_test = test_data[predictor]\n",
    "    y_train = train_data['resale_price']\n",
    "    y_test = test_data['resale_price']\n",
    "\n",
    "    # Initialize and train the model\n",
    "    model = LinearRegression()\n",
    "    model.fit(X_train, y_train)\n",
    "    \n",
    "    # Predict and evaluate the model\n",
    "    y_pred = model.predict(X_test)\n",
    "    mse = mean_squared_error(y_test, y_pred)\n",
    "    r2 = r2_score(y_test, y_pred)\n",
    "    \n",
    "    # Print the performance\n",
    "    print(f'Linear Regression using {predictor}:')\n",
    "    print(f'Mean Squared Error (MSE): {mse}')\n",
    "    print(f'R-squared Score: {r2}\\n')\n",
    "    print()"
   ]
  },
  {
   "cell_type": "code",
   "execution_count": 7,
   "id": "5555e86d-a134-4262-aa76-ef8bd4d07bda",
   "metadata": {},
   "outputs": [
    {
     "name": "stdout",
     "output_type": "stream",
     "text": [
      "Linear Regression using ['floor_area_sqm']:\n",
      "Mean Squared Error (MSE): 10852322747.407\n",
      "R-squared Score: 0.41058981333644384\n",
      "\n",
      "\n",
      "Linear Regression using ['lease_commence_date']:\n",
      "Mean Squared Error (MSE): 13890149818.691706\n",
      "R-squared Score: 0.2455996759425535\n",
      "\n",
      "\n",
      "Linear Regression using ['storey_range']:\n",
      "Mean Squared Error (MSE): 17999438190.340294\n",
      "R-squared Score: 0.02241644756257466\n",
      "\n",
      "\n",
      "Linear Regression using ['resale_year']:\n",
      "Mean Squared Error (MSE): 11860717498.754131\n",
      "R-squared Score: 0.355821985982242\n",
      "\n",
      "\n",
      "Linear Regression using ['floor_area_sqm', 'lease_commence_date', 'storey_range', 'resale_year']:\n",
      "Mean Squared Error (MSE): 4869618849.629878\n",
      "R-squared Score: 0.7355217844192378\n",
      "\n",
      "\n"
     ]
    }
   ],
   "source": [
    "for var in candidates:\n",
    "    linear_regression([var])\n",
    "linear_regression(candidates)"
   ]
  },
  {
   "cell_type": "markdown",
   "id": "93ded24d-5497-4af6-a947-a0b66a8573c9",
   "metadata": {},
   "source": [
    "## Ridge Regression Model"
   ]
  },
  {
   "cell_type": "code",
   "execution_count": 8,
   "id": "1d7e1120-faeb-4c49-9700-6c1a5c43ea33",
   "metadata": {},
   "outputs": [],
   "source": [
    "def ridge_regression(predictor):\n",
    "    # Prepare the data\n",
    "    X_train = train_data[predictor]\n",
    "    X_test = test_data[predictor]\n",
    "    y_train = train_data['resale_price']\n",
    "    y_test = test_data['resale_price']\n",
    "\n",
    "    # Initialize and train the Ridge Regression model\n",
    "    ridge_reg_model = Ridge(alpha=1.0)\n",
    "    ridge_reg_model.fit(X_train, y_train)\n",
    "\n",
    "    # Make predictions on the test data\n",
    "    y_pred_ridge = ridge_reg_model.predict(X_test)\n",
    "\n",
    "    # Evaluate the model performance\n",
    "    mse_ridge = mean_squared_error(y_test, y_pred_ridge)\n",
    "    r2_ridge = r2_score(y_test, y_pred_ridge)\n",
    "\n",
    "    # Print out the model performance metrics for Ridge Regression\n",
    "    print(f'Ridge Regression using {predictor}:')\n",
    "    print(f'Mean Squared Error (MSE): {mse_ridge}')\n",
    "    print(f'R-squared Score: {r2_ridge}\\n')\n",
    "    print()"
   ]
  },
  {
   "cell_type": "code",
   "execution_count": 9,
   "id": "519fa8a2",
   "metadata": {
    "scrolled": false
   },
   "outputs": [
    {
     "name": "stdout",
     "output_type": "stream",
     "text": [
      "Ridge Regression using ['floor_area_sqm']:\n",
      "Mean Squared Error (MSE): 10852322747.584032\n",
      "R-squared Score: 0.41058981332682887\n",
      "\n",
      "\n",
      "Ridge Regression using ['lease_commence_date']:\n",
      "Mean Squared Error (MSE): 13890149818.726665\n",
      "R-squared Score: 0.24559967594065468\n",
      "\n",
      "\n",
      "Ridge Regression using ['storey_range']:\n",
      "Mean Squared Error (MSE): 17999438194.853462\n",
      "R-squared Score: 0.022416447317455956\n",
      "\n",
      "\n",
      "Ridge Regression using ['resale_year']:\n",
      "Mean Squared Error (MSE): 11860717502.674099\n",
      "R-squared Score: 0.3558219857693412\n",
      "\n",
      "\n",
      "Ridge Regression using ['floor_area_sqm', 'lease_commence_date', 'storey_range', 'resale_year']:\n",
      "Mean Squared Error (MSE): 4869618852.099425\n",
      "R-squared Score: 0.7355217842851121\n",
      "\n",
      "\n"
     ]
    }
   ],
   "source": [
    "for var in candidates:\n",
    "    ridge_regression([var])\n",
    "ridge_regression(candidates)"
   ]
  },
  {
   "cell_type": "markdown",
   "id": "ee2dcf30-fd88-432a-b5bb-3b6f99d3b26f",
   "metadata": {},
   "source": [
    "## Bayesian Ridge Regression Model"
   ]
  },
  {
   "cell_type": "code",
   "execution_count": 10,
   "id": "ebd78dca-1ffb-4e2a-9d53-220953da11b2",
   "metadata": {},
   "outputs": [],
   "source": [
    "def bayesian_ridge_regression(predictor):  \n",
    "    # Prepare the data\n",
    "    X_train = train_data[predictor]\n",
    "    X_test = test_data[predictor]\n",
    "    y_train = train_data['resale_price']\n",
    "    y_test = test_data['resale_price']\n",
    "\n",
    "    # Initialize and train the model\n",
    "    model = BayesianRidge()\n",
    "    model.fit(X_train, y_train)\n",
    "    \n",
    "    # Predict and evaluate the model\n",
    "    y_pred = model.predict(X_test)\n",
    "    mse = mean_squared_error(y_test, y_pred)\n",
    "    r2 = r2_score(y_test, y_pred)\n",
    "    \n",
    "    # Print the performance\n",
    "    print(f'Bayesian Ridge Regression using {predictor}:')\n",
    "    print(f'Mean Squared Error (MSE): {mse}')\n",
    "    print(f'R-squared Score: {r2}\\n')\n",
    "    print()"
   ]
  },
  {
   "cell_type": "code",
   "execution_count": 11,
   "id": "33738efe-5554-4018-89d6-0362a2146e57",
   "metadata": {
    "scrolled": false
   },
   "outputs": [
    {
     "name": "stdout",
     "output_type": "stream",
     "text": [
      "Bayesian Ridge Regression using ['floor_area_sqm']:\n",
      "Mean Squared Error (MSE): 10852322917.217775\n",
      "R-squared Score: 0.4105898041136993\n",
      "\n",
      "\n",
      "Bayesian Ridge Regression using ['lease_commence_date']:\n",
      "Mean Squared Error (MSE): 13890149828.021973\n",
      "R-squared Score: 0.24559967543580896\n",
      "\n",
      "\n",
      "Bayesian Ridge Regression using ['storey_range']:\n",
      "Mean Squared Error (MSE): 17999439435.067406\n",
      "R-squared Score: 0.022416379959089627\n",
      "\n",
      "\n",
      "Bayesian Ridge Regression using ['resale_year']:\n",
      "Mean Squared Error (MSE): 11860717947.097328\n",
      "R-squared Score: 0.3558219616318745\n",
      "\n",
      "\n",
      "Bayesian Ridge Regression using ['floor_area_sqm', 'lease_commence_date', 'storey_range', 'resale_year']:\n",
      "Mean Squared Error (MSE): 4869619217.818021\n",
      "R-squared Score: 0.7355217644222429\n",
      "\n",
      "\n"
     ]
    }
   ],
   "source": [
    "for var in candidates:\n",
    "    bayesian_ridge_regression([var])\n",
    "bayesian_ridge_regression(candidates)"
   ]
  },
  {
   "cell_type": "markdown",
   "id": "02fb7248-725c-4950-92ac-5a9f230967aa",
   "metadata": {},
   "source": [
    "## Gradient Boosting Regressor"
   ]
  },
  {
   "cell_type": "code",
   "execution_count": 12,
   "id": "0782a2c0",
   "metadata": {
    "scrolled": true
   },
   "outputs": [],
   "source": [
    "def gradient_boosting_regression(predictor):\n",
    "    # Prepare the data\n",
    "    X_train = train_data[predictor]\n",
    "    X_test = test_data[predictor]\n",
    "    y_train = train_data['resale_price']\n",
    "    y_test = test_data['resale_price']\n",
    "\n",
    "    # Initialize and train the Gradient Boosting Regressor model\n",
    "    gb_regressor = GradientBoostingRegressor()\n",
    "    gb_regressor.fit(X_train, y_train)\n",
    "\n",
    "    # Make predictions\n",
    "    y_pred = gb_regressor.predict(X_test)\n",
    "\n",
    "    # Evaluate the model\n",
    "    r2 = r2_score(y_test, y_pred)\n",
    "    mse = mean_squared_error(y_test, y_pred)\n",
    "    print(f'Gradient Boosting Regression using {predictor}:')\n",
    "    print(f\"Mean Squared Error: {mse}\")\n",
    "    print(f'R-squared Score: {r2}\\n')\n",
    "    print();"
   ]
  },
  {
   "cell_type": "code",
   "execution_count": 13,
   "id": "2ba9cec3",
   "metadata": {},
   "outputs": [
    {
     "name": "stdout",
     "output_type": "stream",
     "text": [
      "Gradient Boosting Regression using ['floor_area_sqm']:\n",
      "Mean Squared Error: 10147424080.993206\n",
      "R-squared Score: 0.44887419394511274\n",
      "\n",
      "\n",
      "Gradient Boosting Regression using ['lease_commence_date']:\n",
      "Mean Squared Error: 13351409455.82496\n",
      "R-squared Score: 0.2748596846274547\n",
      "\n",
      "\n",
      "Gradient Boosting Regression using ['storey_range']:\n",
      "Mean Squared Error: 17571429926.24127\n",
      "R-squared Score: 0.04566238640054632\n",
      "\n",
      "\n",
      "Gradient Boosting Regression using ['resale_year']:\n",
      "Mean Squared Error: 9755997498.846968\n",
      "R-squared Score: 0.47013331240461653\n",
      "\n",
      "\n",
      "Gradient Boosting Regression using ['floor_area_sqm', 'lease_commence_date', 'storey_range', 'resale_year']:\n",
      "Mean Squared Error: 2138139236.7485445\n",
      "R-squared Score: 0.8838736115781528\n",
      "\n",
      "\n"
     ]
    }
   ],
   "source": [
    "for var in candidates:\n",
    "    gradient_boosting_regression([var])\n",
    "gradient_boosting_regression(candidates)"
   ]
  },
  {
   "cell_type": "markdown",
   "id": "d0743215-2626-4902-a685-9eca800ef17f",
   "metadata": {},
   "source": [
    "## Random Forest Regressor"
   ]
  },
  {
   "cell_type": "code",
   "execution_count": 14,
   "id": "ab0060fc",
   "metadata": {},
   "outputs": [],
   "source": [
    "def random_forest_regression(predictor):\n",
    "    # Prepare the data\n",
    "    X_train = train_data[predictor]\n",
    "    X_test = test_data[predictor]\n",
    "    y_train = train_data['resale_price']\n",
    "    y_test = test_data['resale_price']\n",
    "\n",
    "    # Train decision tree\n",
    "    rf = RandomForestRegressor()\n",
    "    rf.fit(X_train, y_train)\n",
    "    \n",
    "    # Predict Response corresponding to Predictors\n",
    "    y_pred = rf.predict(X_test)\n",
    "    \n",
    "    # Check the Goodness of Fit (on Train Data)\n",
    "    r2 = r2_score(y_test, y_pred)\n",
    "    mse = mean_squared_error(y_test, y_pred)\n",
    "    print(f'Random Forest Regression using {predictor}:')\n",
    "    print(f\"Mean Squared Error: {mse}\")\n",
    "    print(f'R-squared Score: {r2}\\n')\n",
    "    print();\n",
    "    \n",
    "    # Plot trees is not useful since the number of nodes is incomprehensible thus not providing significant insights\n",
    "#     for i in range(min(2,len(rf.estimators_))):\n",
    "#         plt.figure(figsize=(30,15), dpi=300)\n",
    "#         plot_tree(rf.estimators_[i])\n",
    "#         plt.show()"
   ]
  },
  {
   "cell_type": "code",
   "execution_count": 15,
   "id": "1ed7088c",
   "metadata": {},
   "outputs": [
    {
     "name": "stdout",
     "output_type": "stream",
     "text": [
      "Random Forest Regression using ['floor_area_sqm']:\n",
      "Mean Squared Error: 10110927498.159582\n",
      "R-squared Score: 0.45085639242936715\n",
      "\n",
      "\n",
      "Random Forest Regression using ['lease_commence_date']:\n",
      "Mean Squared Error: 13346982729.891596\n",
      "R-squared Score: 0.2751001084905689\n",
      "\n",
      "\n",
      "Random Forest Regression using ['storey_range']:\n",
      "Mean Squared Error: 17571357488.52167\n",
      "R-squared Score: 0.04566632063018761\n",
      "\n",
      "\n",
      "Random Forest Regression using ['resale_year']:\n",
      "Mean Squared Error: 9755938660.965277\n",
      "R-squared Score: 0.4701365080013231\n",
      "\n",
      "\n",
      "Random Forest Regression using ['floor_area_sqm', 'lease_commence_date', 'storey_range', 'resale_year']:\n",
      "Mean Squared Error: 1745874211.190154\n",
      "R-squared Score: 0.9051782674861425\n",
      "\n",
      "\n"
     ]
    }
   ],
   "source": [
    "for var in candidates:\n",
    "    random_forest_regression([var])\n",
    "random_forest_regression(candidates)"
   ]
  },
  {
   "cell_type": "markdown",
   "id": "d226fb6f",
   "metadata": {},
   "source": [
    "## Insights"
   ]
  },
  {
   "cell_type": "markdown",
   "id": "6bde36f8",
   "metadata": {},
   "source": [
    "It can be observed that the variables `floor_area_sqm` and `resale_year` consistently achieved relatively high R-squared values (around 0.4) when each of the models build using the variable. This suggests that `floor_area_sqm` and `resale_year` can be the two most relevant factors in determining `resale_price`.\n",
    "\n",
    "On the other hand, `lease_commence_date` have a relatively mediocre R-squared value at around 0.2 up to 0.3. It seems to have some impact in the pricing, but not enough to be the determining factor.\n",
    "\n",
    "At the end, we have `storey_range` with a consistently very low R-squared values never going over 0.05. This shows that the variable `storey_range` does not have significant impact in the pricing."
   ]
  },
  {
   "cell_type": "markdown",
   "id": "9a74720f",
   "metadata": {},
   "source": [
    "While the model we built using 1 predictor at a time gives R-squared score that never pass 0.5, rebuilding the same model utilizing all predictor at the same time yields a significantly better prediction.\n",
    "\n",
    "A simple linear regression model built with the four chosen predictors successfully achieved a R-squared value of 0.736. The same approach using ridge regression and bayesian ridge regression models also yields similar R-squared value of 0.736. While this score is already somewhat good, we are looking for ways to further improve our prediction. Thus, we moved on to try other complex models like gradient boosting and random forest.\n",
    "\n",
    "For the gradient boosting model, using one predictor at a time shows non-neglilible improvement in terms of lowering the error of the prediction, compared to the previous three models. The model really shines when it utilizes all four predictors and managed to achieve R-squared value of 0.884. This shows that gradient boosting model suits the problem compared to the previous models.\n",
    "\n",
    "Finally, random forest model achieved an R-squared value of 0.905, just above 0.9. This is a slight improvement from gradient boosting. This result shows that random forest and gradient boosting can be appropriate models in predicting HDB resale pricing."
   ]
  },
  {
   "cell_type": "code",
   "execution_count": 4,
   "id": "106b477a-7972-40b3-96aa-db3a5052eaa5",
   "metadata": {},
   "outputs": [
    {
     "name": "stdout",
     "output_type": "stream",
     "text": [
      "The average resale price is: 293643.45073320804\n",
      "RMSE Random Forest: 41713.30722922842\n"
     ]
    }
   ],
   "source": [
    "print(\"The average resale price is:\",data['resale_price'].mean())\n",
    "print(\"RMSE Random Forest:\", 1740000000**0.5)"
   ]
  },
  {
   "cell_type": "markdown",
   "id": "74af1e54",
   "metadata": {},
   "source": [
    "It is important to note that even though the Mean-Squared Error (MSE) of the models we built may seems high and concerning, it is acceptable since housing prices, such as those for HDB flats, can range and vary wildly.\n",
    "\n",
    "The square root of the MSE gives you the Root Mean Squared Error (RMSE), which is on the same scale as the prices themselves. Using our random forest model with MSE value of 1,740,000,000, this will gives us RMSE of around 41,000. This means that we can expect error of around S$41,000 in our price prediction. Such error might be a reasonable margin for certain applications, like a quick market estimate."
   ]
  }
 ],
 "metadata": {
  "kernelspec": {
   "display_name": "Python 3 (ipykernel)",
   "language": "python",
   "name": "python3"
  },
  "language_info": {
   "codemirror_mode": {
    "name": "ipython",
    "version": 3
   },
   "file_extension": ".py",
   "mimetype": "text/x-python",
   "name": "python",
   "nbconvert_exporter": "python",
   "pygments_lexer": "ipython3",
   "version": "3.10.12"
  }
 },
 "nbformat": 4,
 "nbformat_minor": 5
}
