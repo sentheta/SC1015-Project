{
 "cells": [
  {
   "cell_type": "markdown",
   "id": "6b9864fb-1032-480f-99db-56f9287a3b6f",
   "metadata": {},
   "source": [
    "### Libraries"
   ]
  },
  {
   "cell_type": "code",
   "execution_count": 2,
   "id": "5b05d52f",
   "metadata": {},
   "outputs": [],
   "source": [
    "import numpy as np\n",
    "import pandas as pd\n",
    "import seaborn as sb\n",
    "import matplotlib.pyplot as plt\n",
    "import warnings\n",
    "\n",
    "from sklearn.model_selection import train_test_split \n",
    "from sklearn.preprocessing import LabelEncoder, StandardScaler\n",
    "from sklearn.metrics import mean_squared_error, r2_score\n",
    "\n",
    "from sklearn.linear_model import Ridge, BayesianRidge, LinearRegression\n",
    "from sklearn.ensemble import GradientBoostingRegressor, RandomForestRegressor\n",
    "\n",
    "sb.set()\n",
    "warnings.filterwarnings('ignore')"
   ]
  },
  {
   "cell_type": "markdown",
   "id": "180b0b07-01ba-416d-b71d-a11fb7fdff1c",
   "metadata": {},
   "source": [
    "### Importing dataset"
   ]
  },
  {
   "cell_type": "code",
   "execution_count": 3,
   "id": "d07122d3",
   "metadata": {
    "scrolled": true
   },
   "outputs": [],
   "source": [
    "data = pd.read_csv(\"cleaned-Housing.csv\")\n",
    "train_data = pd.read_csv(\"train-Housing.csv\")\n",
    "test_data = pd.read_csv(\"test-Housing.csv\")"
   ]
  },
  {
   "cell_type": "code",
   "execution_count": 4,
   "id": "ca299942-1897-419e-bdec-e24e11c9f50f",
   "metadata": {},
   "outputs": [
    {
     "data": {
      "text/html": [
       "<div>\n",
       "<style scoped>\n",
       "    .dataframe tbody tr th:only-of-type {\n",
       "        vertical-align: middle;\n",
       "    }\n",
       "\n",
       "    .dataframe tbody tr th {\n",
       "        vertical-align: top;\n",
       "    }\n",
       "\n",
       "    .dataframe thead th {\n",
       "        text-align: right;\n",
       "    }\n",
       "</style>\n",
       "<table border=\"1\" class=\"dataframe\">\n",
       "  <thead>\n",
       "    <tr style=\"text-align: right;\">\n",
       "      <th></th>\n",
       "      <th>month</th>\n",
       "      <th>town</th>\n",
       "      <th>flat_type</th>\n",
       "      <th>block</th>\n",
       "      <th>street_name</th>\n",
       "      <th>storey_range</th>\n",
       "      <th>floor_area_sqm</th>\n",
       "      <th>flat_model</th>\n",
       "      <th>lease_commence_date</th>\n",
       "      <th>resale_price</th>\n",
       "      <th>year</th>\n",
       "    </tr>\n",
       "  </thead>\n",
       "  <tbody>\n",
       "    <tr>\n",
       "      <th>0</th>\n",
       "      <td>2012-01-03</td>\n",
       "      <td>ANG MO KIO</td>\n",
       "      <td>2 ROOM</td>\n",
       "      <td>172</td>\n",
       "      <td>ANG MO KIO AVE 4</td>\n",
       "      <td>06 TO 10</td>\n",
       "      <td>45</td>\n",
       "      <td>Improved</td>\n",
       "      <td>1986</td>\n",
       "      <td>250000.0</td>\n",
       "      <td>2012</td>\n",
       "    </tr>\n",
       "    <tr>\n",
       "      <th>1</th>\n",
       "      <td>2012-01-03</td>\n",
       "      <td>ANG MO KIO</td>\n",
       "      <td>2 ROOM</td>\n",
       "      <td>510</td>\n",
       "      <td>ANG MO KIO AVE 8</td>\n",
       "      <td>01 TO 05</td>\n",
       "      <td>44</td>\n",
       "      <td>Improved</td>\n",
       "      <td>1980</td>\n",
       "      <td>265000.0</td>\n",
       "      <td>2012</td>\n",
       "    </tr>\n",
       "    <tr>\n",
       "      <th>2</th>\n",
       "      <td>2012-01-03</td>\n",
       "      <td>ANG MO KIO</td>\n",
       "      <td>3 ROOM</td>\n",
       "      <td>610</td>\n",
       "      <td>ANG MO KIO AVE 4</td>\n",
       "      <td>06 TO 10</td>\n",
       "      <td>68</td>\n",
       "      <td>New Generation</td>\n",
       "      <td>1980</td>\n",
       "      <td>315000.0</td>\n",
       "      <td>2012</td>\n",
       "    </tr>\n",
       "    <tr>\n",
       "      <th>3</th>\n",
       "      <td>2012-01-03</td>\n",
       "      <td>ANG MO KIO</td>\n",
       "      <td>3 ROOM</td>\n",
       "      <td>474</td>\n",
       "      <td>ANG MO KIO AVE 10</td>\n",
       "      <td>01 TO 05</td>\n",
       "      <td>67</td>\n",
       "      <td>New Generation</td>\n",
       "      <td>1984</td>\n",
       "      <td>320000.0</td>\n",
       "      <td>2012</td>\n",
       "    </tr>\n",
       "    <tr>\n",
       "      <th>4</th>\n",
       "      <td>2012-01-03</td>\n",
       "      <td>ANG MO KIO</td>\n",
       "      <td>3 ROOM</td>\n",
       "      <td>604</td>\n",
       "      <td>ANG MO KIO AVE 5</td>\n",
       "      <td>06 TO 10</td>\n",
       "      <td>67</td>\n",
       "      <td>New Generation</td>\n",
       "      <td>1980</td>\n",
       "      <td>321000.0</td>\n",
       "      <td>2012</td>\n",
       "    </tr>\n",
       "  </tbody>\n",
       "</table>\n",
       "</div>"
      ],
      "text/plain": [
       "        month        town flat_type block        street_name storey_range  \\\n",
       "0  2012-01-03  ANG MO KIO    2 ROOM   172   ANG MO KIO AVE 4     06 TO 10   \n",
       "1  2012-01-03  ANG MO KIO    2 ROOM   510   ANG MO KIO AVE 8     01 TO 05   \n",
       "2  2012-01-03  ANG MO KIO    3 ROOM   610   ANG MO KIO AVE 4     06 TO 10   \n",
       "3  2012-01-03  ANG MO KIO    3 ROOM   474  ANG MO KIO AVE 10     01 TO 05   \n",
       "4  2012-01-03  ANG MO KIO    3 ROOM   604   ANG MO KIO AVE 5     06 TO 10   \n",
       "\n",
       "   floor_area_sqm      flat_model  lease_commence_date  resale_price  year  \n",
       "0              45        Improved                 1986      250000.0  2012  \n",
       "1              44        Improved                 1980      265000.0  2012  \n",
       "2              68  New Generation                 1980      315000.0  2012  \n",
       "3              67  New Generation                 1984      320000.0  2012  \n",
       "4              67  New Generation                 1980      321000.0  2012  "
      ]
     },
     "execution_count": 4,
     "metadata": {},
     "output_type": "execute_result"
    }
   ],
   "source": [
    "data.head()"
   ]
  },
  {
   "cell_type": "markdown",
   "id": "b1015b2e-e333-4beb-925a-3042c594c55a",
   "metadata": {},
   "source": [
    "### Linear Regression Model Function"
   ]
  },
  {
   "cell_type": "code",
   "execution_count": 38,
   "id": "25711abf-02b0-46e5-ab66-7ac9ba6f3f76",
   "metadata": {},
   "outputs": [],
   "source": [
    "def linear_regression(predictor):\n",
    "    # Prepare the data\n",
    "    X_train = train_data[predictor]\n",
    "    X_test = test_data[predictor]\n",
    "    y_train = train_data['resale_price']\n",
    "    y_test = test_data['resale_price']\n",
    "\n",
    "    # Initialize and train the model\n",
    "    model = LinearRegression()\n",
    "    model.fit(X_train, y_train)\n",
    "    \n",
    "    # Predict and evaluate the model\n",
    "    y_pred = model.predict(X_test)\n",
    "    mse = mean_squared_error(y_test, y_pred)\n",
    "    r2 = r2_score(y_test, y_pred)\n",
    "    \n",
    "    # Print the performance\n",
    "    print(f'Linear Regression using {predictor}:')\n",
    "    print(f'Mean Squared Error (MSE): {mse}')\n",
    "    print(f'R-squared Score: {r2}\\n')"
   ]
  },
  {
   "cell_type": "code",
   "execution_count": 52,
   "id": "5555e86d-a134-4262-aa76-ef8bd4d07bda",
   "metadata": {},
   "outputs": [
    {
     "name": "stdout",
     "output_type": "stream",
     "text": [
      "Linear Regression using ['floor_area_sqm']:\n",
      "Mean Squared Error (MSE): 6673143504.148816\n",
      "R-squared Score: 0.5520847532235249\n",
      "\n"
     ]
    }
   ],
   "source": [
    "linear_regression(['floor_area_sqm'])"
   ]
  },
  {
   "cell_type": "code",
   "execution_count": 53,
   "id": "5d8fa061-ecad-40bb-96d7-8d39c8bd3109",
   "metadata": {
    "scrolled": true
   },
   "outputs": [
    {
     "name": "stdout",
     "output_type": "stream",
     "text": [
      "Linear Regression using ['lease_commence_date']:\n",
      "Mean Squared Error (MSE): 12041934922.93348\n",
      "R-squared Score: 0.19172032651199544\n",
      "\n"
     ]
    }
   ],
   "source": [
    "linear_regression(['lease_commence_date'])"
   ]
  },
  {
   "cell_type": "code",
   "execution_count": 54,
   "id": "e0f4a47d",
   "metadata": {},
   "outputs": [
    {
     "name": "stdout",
     "output_type": "stream",
     "text": [
      "Linear Regression using ['year']:\n",
      "Mean Squared Error (MSE): 14817369450.824999\n",
      "R-squared Score: 0.005427398643804926\n",
      "\n"
     ]
    }
   ],
   "source": [
    "linear_regression(['year'])"
   ]
  },
  {
   "cell_type": "code",
   "execution_count": 55,
   "id": "e485909d",
   "metadata": {},
   "outputs": [
    {
     "name": "stdout",
     "output_type": "stream",
     "text": [
      "Linear Regression using ['floor_area_sqm', 'lease_commence_date', 'year']:\n",
      "Mean Squared Error (MSE): 6554116589.753842\n",
      "R-squared Score: 0.56007408684135\n",
      "\n"
     ]
    }
   ],
   "source": [
    "linear_regression(['floor_area_sqm', 'lease_commence_date', 'year'])"
   ]
  },
  {
   "cell_type": "markdown",
   "id": "4ac84f25-271d-458c-a8e5-8a2a47068c64",
   "metadata": {},
   "source": [
    "The MSE for 'floor_area_sqm' and 'lease_commence_date' are both high, indicating that the models may not be fitting the data well. The R^2 value for 'floor_area_sqm' is slightly higher than that for 'lease_commence_date', suggesting that 'floor_area_sqm' is a slightly better predictor of 'resale_price' than 'lease_commence_date', but overall, both models explain a very small portion of the variance in 'resale_price'."
   ]
  },
  {
   "cell_type": "markdown",
   "id": "93ded24d-5497-4af6-a947-a0b66a8573c9",
   "metadata": {},
   "source": [
    "### Ridge Regression Model Function"
   ]
  },
  {
   "cell_type": "code",
   "execution_count": 11,
   "id": "1d7e1120-faeb-4c49-9700-6c1a5c43ea33",
   "metadata": {},
   "outputs": [],
   "source": [
    "def ridge_regression(data, predictor):\n",
    "    # Prepare the data\n",
    "    X_train = train_data[predictor]\n",
    "    X_test = test_data[predictor]\n",
    "    y_train = train_data['resale_price']\n",
    "    y_test = test_data['resale_price']\n",
    "\n",
    "    # Initialize and train the Ridge Regression model\n",
    "    ridge_reg_model = Ridge(alpha=1.0)\n",
    "    ridge_reg_model.fit(X_train, y_train)\n",
    "\n",
    "    # Make predictions on the test data\n",
    "    y_pred_ridge = ridge_reg_model.predict(X_test)\n",
    "\n",
    "    # Evaluate the model performance\n",
    "    mse_ridge = mean_squared_error(y_test, y_pred_ridge)\n",
    "    r2_ridge = r2_score(y_test, y_pred_ridge)\n",
    "\n",
    "    # Print out the model performance metrics for Ridge Regression\n",
    "    print(f'Ridge Regression using {predictor}:')\n",
    "    print(f'Mean Squared Error (MSE): {mse_ridge}')\n",
    "    print(f'R-squared Score: {r2_ridge}\\n')"
   ]
  },
  {
   "cell_type": "code",
   "execution_count": 12,
   "id": "519fa8a2",
   "metadata": {
    "scrolled": true
   },
   "outputs": [
    {
     "name": "stdout",
     "output_type": "stream",
     "text": [
      "Ridge Regression using ['floor_area_sqm']:\n",
      "Mean Squared Error (MSE): 6673143506.010233\n",
      "R-squared Score: 0.5520847530985826\n",
      "\n"
     ]
    }
   ],
   "source": [
    "ridge_regression(data, ['floor_area_sqm'])"
   ]
  },
  {
   "cell_type": "code",
   "execution_count": 13,
   "id": "209a8d9b",
   "metadata": {
    "scrolled": true
   },
   "outputs": [
    {
     "name": "stdout",
     "output_type": "stream",
     "text": [
      "Ridge Regression using ['lease_commence_date']:\n",
      "Mean Squared Error (MSE): 12041934921.445866\n",
      "R-squared Score: 0.19172032661184724\n",
      "\n"
     ]
    }
   ],
   "source": [
    "ridge_regression(data, ['lease_commence_date'])"
   ]
  },
  {
   "cell_type": "code",
   "execution_count": 47,
   "id": "70f77a3d",
   "metadata": {
    "scrolled": true
   },
   "outputs": [
    {
     "name": "stdout",
     "output_type": "stream",
     "text": [
      "Ridge Regression using ['year']:\n",
      "Mean Squared Error (MSE): 14817370219.780151\n",
      "R-squared Score: 0.005427347029938523\n",
      "\n"
     ]
    }
   ],
   "source": [
    "ridge_regression(data, ['year'])"
   ]
  },
  {
   "cell_type": "code",
   "execution_count": 48,
   "id": "22862e02",
   "metadata": {},
   "outputs": [
    {
     "name": "stdout",
     "output_type": "stream",
     "text": [
      "Ridge Regression using ['floor_area_sqm', 'lease_commence_date', 'year']:\n",
      "Mean Squared Error (MSE): 6554116577.730454\n",
      "R-squared Score: 0.5600740876483846\n",
      "\n"
     ]
    }
   ],
   "source": [
    "ridge_regression(data, ['floor_area_sqm','lease_commence_date', 'year'])"
   ]
  },
  {
   "cell_type": "markdown",
   "id": "d93f4c2c-3e68-40cd-a389-9474aa525dec",
   "metadata": {},
   "source": [
    "The R^2 value for both variables are very close to 0. This indicates that only about 0.9% of the variance in 'resale_price' is being explained by 'floor_area_sqm' and  only about 0.5% of the variance in 'resale_price' is being explained by 'lease_commence_date' which is even less than what 'floor_area_sqm' could explain in Ridge Regression model. This suggests that 'floor_area_sqm' could be a better predictor.\n",
    "\n",
    "Hence we move on to try Bayesian Ridge model"
   ]
  },
  {
   "cell_type": "markdown",
   "id": "ee2dcf30-fd88-432a-b5bb-3b6f99d3b26f",
   "metadata": {},
   "source": [
    "### Bayesian Ridge Regression Model Function"
   ]
  },
  {
   "cell_type": "code",
   "execution_count": 15,
   "id": "ebd78dca-1ffb-4e2a-9d53-220953da11b2",
   "metadata": {},
   "outputs": [],
   "source": [
    "def bayesian_ridge_regression(data, predictor):  \n",
    "    # Prepare the data\n",
    "    X_train = train_data[predictor]\n",
    "    X_test = test_data[predictor]\n",
    "    y_train = train_data['resale_price']\n",
    "    y_test = test_data['resale_price']\n",
    "\n",
    "    # Initialize and train the model\n",
    "    model = BayesianRidge()\n",
    "    model.fit(X_train, y_train)\n",
    "    \n",
    "    # Predict and evaluate the model\n",
    "    y_pred = model.predict(X_test)\n",
    "    mse = mean_squared_error(y_test, y_pred)\n",
    "    r2 = r2_score(y_test, y_pred)\n",
    "    \n",
    "    # Print the performance\n",
    "    print(f'Bayesian Ridge Regression using {predictor}:')\n",
    "    print(f'Mean Squared Error (MSE): {mse}')\n",
    "    print(f'R-squared Score: {r2}\\n')"
   ]
  },
  {
   "cell_type": "code",
   "execution_count": 16,
   "id": "33738efe-5554-4018-89d6-0362a2146e57",
   "metadata": {
    "scrolled": true
   },
   "outputs": [
    {
     "name": "stdout",
     "output_type": "stream",
     "text": [
      "Bayesian Ridge Regression using ['floor_area_sqm']:\n",
      "Mean Squared Error (MSE): 6673144464.012085\n",
      "R-squared Score: 0.5520846887955093\n",
      "\n"
     ]
    }
   ],
   "source": [
    "bayesian_ridge_regression(data, ['floor_area_sqm'])"
   ]
  },
  {
   "cell_type": "code",
   "execution_count": 17,
   "id": "1c39c25b-9531-43ca-9738-743d7183a51b",
   "metadata": {
    "scrolled": true
   },
   "outputs": [
    {
     "name": "stdout",
     "output_type": "stream",
     "text": [
      "Bayesian Ridge Regression using ['lease_commence_date']:\n",
      "Mean Squared Error (MSE): 12041934298.783642\n",
      "R-squared Score: 0.19172036840622841\n",
      "\n"
     ]
    }
   ],
   "source": [
    "bayesian_ridge_regression(data, ['lease_commence_date'])"
   ]
  },
  {
   "cell_type": "code",
   "execution_count": 51,
   "id": "154c5d88",
   "metadata": {
    "scrolled": true
   },
   "outputs": [
    {
     "name": "stdout",
     "output_type": "stream",
     "text": [
      "Bayesian Ridge Regression using ['year']:\n",
      "Mean Squared Error (MSE): 14817504814.509762\n",
      "R-squared Score: 0.005418312752241583\n",
      "\n"
     ]
    }
   ],
   "source": [
    "bayesian_ridge_regression(data, ['year'])"
   ]
  },
  {
   "cell_type": "code",
   "execution_count": 18,
   "id": "2ef9220c",
   "metadata": {},
   "outputs": [
    {
     "name": "stdout",
     "output_type": "stream",
     "text": [
      "Bayesian Ridge Regression using ['floor_area_sqm', 'lease_commence_date', 'year']:\n",
      "Mean Squared Error (MSE): 6554115919.068987\n",
      "R-squared Score: 0.5600741318591098\n",
      "\n"
     ]
    }
   ],
   "source": [
    "bayesian_ridge_regression(data, ['floor_area_sqm', 'lease_commence_date', 'year'])"
   ]
  },
  {
   "cell_type": "markdown",
   "id": "57ec5fa5-6b30-44a4-ad0a-1a1367b6b61b",
   "metadata": {},
   "source": [
    "The Bayesian Ridge model is incorporating prior distributions over the weights and automatically tuning its regularization parameters. Despite this, the predictive power does not significantly improve compared to the standard Ridge Regression, as indicated by the similar MSE and R^2 values."
   ]
  },
  {
   "cell_type": "code",
   "execution_count": 19,
   "id": "106b477a-7972-40b3-96aa-db3a5052eaa5",
   "metadata": {},
   "outputs": [
    {
     "name": "stdout",
     "output_type": "stream",
     "text": [
      "The average resale price is: 461391.20211721683\n"
     ]
    }
   ],
   "source": [
    "average_resale_price = data['resale_price'].mean()\n",
    "\n",
    "print(f\"The average resale price is: {average_resale_price}\")"
   ]
  },
  {
   "cell_type": "markdown",
   "id": "43540b84-d0b1-46f9-96bb-65ca4d4274e3",
   "metadata": {},
   "source": [
    "It is important to note that eventhough the MSE seems high it is acceptable because the reatail prices usually vary widely. Housing prices, such as those for HDB flats, can range significantly. An MSE of tens of millions might seem large, but if the resale prices range from tens of thousands to multiple millions, the MSE might be relatively small when considered as a percentage of the price range. The square root of the MSE gives you the Root Mean Squared Error (RMSE), which is on the same scale as the prices themselves. For example, if the RMSE is 70,000, this means the average prediction error is 70,000. If the average housing price is around 500,000 or more, a 70,000 error might be a reasonable margin for certain applications, like a quick market estimate."
   ]
  },
  {
   "cell_type": "markdown",
   "id": "326dd197-d64b-413f-98ae-3a298f9a5c71",
   "metadata": {},
   "source": [
    "Thus, we moved on to try other complex models like Gradient Boosting and Random Forest"
   ]
  },
  {
   "cell_type": "markdown",
   "id": "02fb7248-725c-4950-92ac-5a9f230967aa",
   "metadata": {},
   "source": [
    "### Gradient Boosting Regressor Model"
   ]
  },
  {
   "cell_type": "code",
   "execution_count": 30,
   "id": "0782a2c0",
   "metadata": {
    "scrolled": true
   },
   "outputs": [],
   "source": [
    "def gradient_boosting_regression(predictor):\n",
    "    # Prepare the data\n",
    "    X_train = train_data[predictor]\n",
    "    X_test = test_data[predictor]\n",
    "    y_train = train_data['resale_price']\n",
    "    y_test = test_data['resale_price']\n",
    "\n",
    "    # Encode categorical variables\n",
    "    label_encoders = LabelEncoder()\n",
    "    categorical_cols = ['flat_type', 'storey_range', 'flat_model']\n",
    "    for col in categorical_cols:\n",
    "        X_train[col] = label_encoders.fit_transform(X_train[col])\n",
    "        X_test[col] = label_encoders.fit_transform(X_test[col])\n",
    "\n",
    "    # Initialize and train the Gradient Boosting Regressor model\n",
    "    gb_regressor = GradientBoostingRegressor()\n",
    "    gb_regressor.fit(X_train, y_train)\n",
    "\n",
    "    # Make predictions\n",
    "    y_pred = gb_regressor.predict(X_test)\n",
    "\n",
    "    # Evaluate the model\n",
    "    r2 = r2_score(y_test, y_pred)\n",
    "    mse = mean_squared_error(y_test, y_pred)\n",
    "    print(f\"Mean Squared Error: {mse}\")\n",
    "    print(f'R-squared Score: {r2}\\n')"
   ]
  },
  {
   "cell_type": "code",
   "execution_count": 57,
   "id": "2ba9cec3",
   "metadata": {},
   "outputs": [
    {
     "name": "stdout",
     "output_type": "stream",
     "text": [
      "Mean Squared Error: 3665597450.59099\n",
      "R-squared Score: 0.7539574886042992\n",
      "\n"
     ]
    }
   ],
   "source": [
    "gradient_boosting_regression(['flat_type', 'storey_range', 'flat_model', 'floor_area_sqm', 'lease_commence_date', 'year'])"
   ]
  },
  {
   "cell_type": "markdown",
   "id": "cae093f1-b3b6-4e50-999f-1aad83a59e2e",
   "metadata": {},
   "source": [
    "Compared to linear models, this model is more robust and captures the interaction between different varibles like 'floor_area_sqm' and 'flat_type' effectively. It provided more flexibility in considering more varibles both categorical and numerical.\n",
    "\n",
    " We can see thet the MSE also decreased in using the model and eventhough it is still high, the absolute error would be a less percentage of high 'resale_price' value."
   ]
  },
  {
   "cell_type": "markdown",
   "id": "70cfd84d-18b3-4bb8-9665-0b4a54913629",
   "metadata": {},
   "source": [
    "We can see that the MSE has increased after removing the outliers which could be beacuse of the following reasons:\n",
    "\n",
    "The removed outliers may have been influential points that were actually well-predicted by the model. If these points were not errors but valid extreme values, the model might have been leveraging these data points to better fit the overall trend. Without them, the model might not capture the full range of the data as well.\n",
    "\n",
    "Tree-based models like Gradient Boosting, can be sensitive to the removal of data points. The decision boundaries or split points might change significantly when outliers are removed, leading to a poorer fit to the remaining data."
   ]
  },
  {
   "cell_type": "markdown",
   "id": "d0743215-2626-4902-a685-9eca800ef17f",
   "metadata": {},
   "source": [
    "### Random Forest Regressor Model"
   ]
  },
  {
   "cell_type": "code",
   "execution_count": 43,
   "id": "ab0060fc",
   "metadata": {},
   "outputs": [],
   "source": [
    "def random_forest_regression(predictor):\n",
    "    # Prepare the data\n",
    "    X_train = train_data[predictor]\n",
    "    X_test = test_data[predictor]\n",
    "    y_train = train_data['resale_price']\n",
    "    y_test = test_data['resale_price']\n",
    "\n",
    "    # Train decision tree\n",
    "    rf = RandomForestRegressor()\n",
    "    rf.fit(X_train, y_train)\n",
    "    \n",
    "    # Predict Response corresponding to Predictors\n",
    "    y_train_pred = rf.predict(X_train)\n",
    "    y_test_pred = rf.predict(X_test)\n",
    "    \n",
    "    # Check the Goodness of Fit (on Train Data)\n",
    "    print(\"Goodness of Fit of Model \\tTrain Dataset\")\n",
    "    print(\"Explained variance\\t:\", rf.score(X_train, y_train))\n",
    "    print(\"Mean squared error \\t:\", mean_squared_error(y_train, y_train_pred))\n",
    "    print()\n",
    "\n",
    "    # Check the Goodness of Fit (on Test Data)\n",
    "    print(\"Goodness of Fit of Model \\tTest Dataset\")\n",
    "    print(\"Explained variance \\t:\", rf.score(X_test, y_test))\n",
    "    print(\"Mean squared error \\t:\", mean_squared_error(y_test, y_test_pred))\n",
    "    print()\n",
    "    \n",
    "    # Plot trees\n",
    "#     for i in range(min(2,len(rf.estimators_))):\n",
    "#         plt.figure(figsize=(30,15), dpi=300)\n",
    "#         plot_tree(rf.estimators_[i])\n",
    "#         plt.show()"
   ]
  },
  {
   "cell_type": "code",
   "execution_count": 45,
   "id": "1ed7088c",
   "metadata": {},
   "outputs": [
    {
     "name": "stdout",
     "output_type": "stream",
     "text": [
      "Goodness of Fit of Model \tTrain Dataset\n",
      "Explained variance\t: 0.6113498311971979\n",
      "Mean squared error \t: 5854036186.56932\n",
      "\n",
      "Goodness of Fit of Model \tTest Dataset\n",
      "Explained variance \t: 0.6061041828675331\n",
      "Mean squared error \t: 5868349720.9029665\n",
      "\n"
     ]
    }
   ],
   "source": [
    "random_forest_regression(['floor_area_sqm'])"
   ]
  },
  {
   "cell_type": "code",
   "execution_count": 56,
   "id": "f7e12982",
   "metadata": {},
   "outputs": [
    {
     "name": "stdout",
     "output_type": "stream",
     "text": [
      "Goodness of Fit of Model \tTrain Dataset\n",
      "Explained variance\t: 0.24127685760804374\n",
      "Mean squared error \t: 11428253703.920877\n",
      "\n",
      "Goodness of Fit of Model \tTest Dataset\n",
      "Explained variance \t: 0.22995736699142033\n",
      "Mean squared error \t: 11472270773.008965\n",
      "\n"
     ]
    }
   ],
   "source": [
    "random_forest_regression(['lease_commence_date'])"
   ]
  },
  {
   "cell_type": "code",
   "execution_count": 49,
   "id": "f84e0edd",
   "metadata": {},
   "outputs": [
    {
     "name": "stdout",
     "output_type": "stream",
     "text": [
      "Goodness of Fit of Model \tTrain Dataset\n",
      "Explained variance\t: 0.011606497976667796\n",
      "Mean squared error \t: 14887659370.477146\n",
      "\n",
      "Goodness of Fit of Model \tTest Dataset\n",
      "Explained variance \t: 0.012279705302368993\n",
      "Mean squared error \t: 14715282223.395002\n",
      "\n"
     ]
    }
   ],
   "source": [
    "random_forest_regression(['year'])"
   ]
  },
  {
   "cell_type": "code",
   "execution_count": 50,
   "id": "3905f69c-467b-4677-b371-b73cde927959",
   "metadata": {},
   "outputs": [
    {
     "name": "stdout",
     "output_type": "stream",
     "text": [
      "Goodness of Fit of Model \tTrain Dataset\n",
      "Explained variance\t: 0.7953065480009689\n",
      "Mean squared error \t: 3083191443.984981\n",
      "\n",
      "Goodness of Fit of Model \tTest Dataset\n",
      "Explained variance \t: 0.7293796834423929\n",
      "Mean squared error \t: 4031763197.4432244\n",
      "\n"
     ]
    }
   ],
   "source": [
    "random_forest_regression(['floor_area_sqm','lease_commence_date','year'])"
   ]
  },
  {
   "cell_type": "markdown",
   "id": "74af1e54",
   "metadata": {},
   "source": [
    "The Random Forest algorithm constructs multiple decision trees during training and outputs the mean prediction of the individual trees for regression tasks, or the class that is the mode of the classes for classification tasks.\n",
    "\n",
    "Building the regression tree using `year` and `lease_commence_date` instead of only `floor_area_sqm` shows a jump of the explained variance from around 60% to above 70%. This shows that `year` and `lease_commence_date` are also quite relevant factors toward `resale_price`\n",
    "\n",
    "Explained variance for the training, it's around 79.5%, indicating that the model explains a substantial portion of the variance in the resale price data. The explained variance is for the test set is at around 74.29% suggesting that the model generalizes well to unseen data."
   ]
  }
 ],
 "metadata": {
  "kernelspec": {
   "display_name": "Python 3 (ipykernel)",
   "language": "python",
   "name": "python3"
  },
  "language_info": {
   "codemirror_mode": {
    "name": "ipython",
    "version": 3
   },
   "file_extension": ".py",
   "mimetype": "text/x-python",
   "name": "python",
   "nbconvert_exporter": "python",
   "pygments_lexer": "ipython3",
   "version": "3.10.12"
  }
 },
 "nbformat": 4,
 "nbformat_minor": 5
}
